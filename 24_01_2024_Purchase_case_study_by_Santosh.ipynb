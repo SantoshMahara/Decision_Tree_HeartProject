{
  "cells": [
    {
      "cell_type": "markdown",
      "metadata": {
        "id": "view-in-github",
        "colab_type": "text"
      },
      "source": [
        "<a href=\"https://colab.research.google.com/github/SantoshMahara/Decision_Tree_HeartProject/blob/main/24_01_2024_Purchase_case_study_by_Santosh.ipynb\" target=\"_parent\"><img src=\"https://colab.research.google.com/assets/colab-badge.svg\" alt=\"Open In Colab\"/></a>"
      ]
    },
    {
      "cell_type": "code",
      "execution_count": null,
      "id": "38e9c9bd",
      "metadata": {
        "id": "38e9c9bd"
      },
      "outputs": [],
      "source": [
        "import numpy as np\n",
        "import pandas as pd\n",
        "import matplotlib.pyplot as plt\n",
        "import seaborn as sns"
      ]
    },
    {
      "cell_type": "code",
      "execution_count": null,
      "id": "cb256c06",
      "metadata": {
        "id": "cb256c06"
      },
      "outputs": [],
      "source": [
        "data = pd.read_csv('purchase_data.csv')"
      ]
    },
    {
      "cell_type": "code",
      "execution_count": null,
      "id": "5522de6e",
      "metadata": {
        "id": "5522de6e",
        "outputId": "338eb2cc-9116-4633-8a0a-2cebf95085e3"
      },
      "outputs": [
        {
          "data": {
            "text/html": [
              "<div>\n",
              "<style scoped>\n",
              "    .dataframe tbody tr th:only-of-type {\n",
              "        vertical-align: middle;\n",
              "    }\n",
              "\n",
              "    .dataframe tbody tr th {\n",
              "        vertical-align: top;\n",
              "    }\n",
              "\n",
              "    .dataframe thead th {\n",
              "        text-align: right;\n",
              "    }\n",
              "</style>\n",
              "<table border=\"1\" class=\"dataframe\">\n",
              "  <thead>\n",
              "    <tr style=\"text-align: right;\">\n",
              "      <th></th>\n",
              "      <th>User_ID</th>\n",
              "      <th>Product_ID</th>\n",
              "      <th>Gender</th>\n",
              "      <th>Age</th>\n",
              "      <th>Occupation</th>\n",
              "      <th>City_Category</th>\n",
              "      <th>Stay_In_Current_City_Years</th>\n",
              "      <th>Marital_Status</th>\n",
              "      <th>Product_Category_1</th>\n",
              "      <th>Product_Category_2</th>\n",
              "      <th>Product_Category_3</th>\n",
              "      <th>Purchase</th>\n",
              "    </tr>\n",
              "  </thead>\n",
              "  <tbody>\n",
              "    <tr>\n",
              "      <th>0</th>\n",
              "      <td>1000001</td>\n",
              "      <td>P00069042</td>\n",
              "      <td>F</td>\n",
              "      <td>0-17</td>\n",
              "      <td>10.0</td>\n",
              "      <td>A</td>\n",
              "      <td>2</td>\n",
              "      <td>0.0</td>\n",
              "      <td>3.0</td>\n",
              "      <td>NaN</td>\n",
              "      <td>NaN</td>\n",
              "      <td>8370.0</td>\n",
              "    </tr>\n",
              "    <tr>\n",
              "      <th>1</th>\n",
              "      <td>1000001</td>\n",
              "      <td>P00248942</td>\n",
              "      <td>F</td>\n",
              "      <td>0-17</td>\n",
              "      <td>10.0</td>\n",
              "      <td>A</td>\n",
              "      <td>2</td>\n",
              "      <td>0.0</td>\n",
              "      <td>1.0</td>\n",
              "      <td>6.0</td>\n",
              "      <td>14.0</td>\n",
              "      <td>15200.0</td>\n",
              "    </tr>\n",
              "    <tr>\n",
              "      <th>2</th>\n",
              "      <td>1000001</td>\n",
              "      <td>P00087842</td>\n",
              "      <td>F</td>\n",
              "      <td>0-17</td>\n",
              "      <td>10.0</td>\n",
              "      <td>A</td>\n",
              "      <td>2</td>\n",
              "      <td>0.0</td>\n",
              "      <td>12.0</td>\n",
              "      <td>NaN</td>\n",
              "      <td>NaN</td>\n",
              "      <td>1422.0</td>\n",
              "    </tr>\n",
              "    <tr>\n",
              "      <th>3</th>\n",
              "      <td>1000001</td>\n",
              "      <td>P00085442</td>\n",
              "      <td>F</td>\n",
              "      <td>0-17</td>\n",
              "      <td>10.0</td>\n",
              "      <td>A</td>\n",
              "      <td>2</td>\n",
              "      <td>0.0</td>\n",
              "      <td>12.0</td>\n",
              "      <td>14.0</td>\n",
              "      <td>NaN</td>\n",
              "      <td>1057.0</td>\n",
              "    </tr>\n",
              "    <tr>\n",
              "      <th>4</th>\n",
              "      <td>1000002</td>\n",
              "      <td>P00285442</td>\n",
              "      <td>M</td>\n",
              "      <td>55+</td>\n",
              "      <td>16.0</td>\n",
              "      <td>C</td>\n",
              "      <td>4+</td>\n",
              "      <td>0.0</td>\n",
              "      <td>8.0</td>\n",
              "      <td>NaN</td>\n",
              "      <td>NaN</td>\n",
              "      <td>7969.0</td>\n",
              "    </tr>\n",
              "    <tr>\n",
              "      <th>...</th>\n",
              "      <td>...</td>\n",
              "      <td>...</td>\n",
              "      <td>...</td>\n",
              "      <td>...</td>\n",
              "      <td>...</td>\n",
              "      <td>...</td>\n",
              "      <td>...</td>\n",
              "      <td>...</td>\n",
              "      <td>...</td>\n",
              "      <td>...</td>\n",
              "      <td>...</td>\n",
              "      <td>...</td>\n",
              "    </tr>\n",
              "    <tr>\n",
              "      <th>263010</th>\n",
              "      <td>1004473</td>\n",
              "      <td>P00041942</td>\n",
              "      <td>M</td>\n",
              "      <td>36-45</td>\n",
              "      <td>1.0</td>\n",
              "      <td>B</td>\n",
              "      <td>3</td>\n",
              "      <td>0.0</td>\n",
              "      <td>5.0</td>\n",
              "      <td>18.0</td>\n",
              "      <td>NaN</td>\n",
              "      <td>3722.0</td>\n",
              "    </tr>\n",
              "    <tr>\n",
              "      <th>263011</th>\n",
              "      <td>1004473</td>\n",
              "      <td>P00115142</td>\n",
              "      <td>M</td>\n",
              "      <td>36-45</td>\n",
              "      <td>1.0</td>\n",
              "      <td>B</td>\n",
              "      <td>3</td>\n",
              "      <td>0.0</td>\n",
              "      <td>1.0</td>\n",
              "      <td>8.0</td>\n",
              "      <td>17.0</td>\n",
              "      <td>19253.0</td>\n",
              "    </tr>\n",
              "    <tr>\n",
              "      <th>263012</th>\n",
              "      <td>1004473</td>\n",
              "      <td>P00188442</td>\n",
              "      <td>M</td>\n",
              "      <td>36-45</td>\n",
              "      <td>1.0</td>\n",
              "      <td>B</td>\n",
              "      <td>3</td>\n",
              "      <td>0.0</td>\n",
              "      <td>5.0</td>\n",
              "      <td>7.0</td>\n",
              "      <td>NaN</td>\n",
              "      <td>3608.0</td>\n",
              "    </tr>\n",
              "    <tr>\n",
              "      <th>263013</th>\n",
              "      <td>1004473</td>\n",
              "      <td>P00119442</td>\n",
              "      <td>M</td>\n",
              "      <td>36-45</td>\n",
              "      <td>1.0</td>\n",
              "      <td>B</td>\n",
              "      <td>3</td>\n",
              "      <td>0.0</td>\n",
              "      <td>5.0</td>\n",
              "      <td>NaN</td>\n",
              "      <td>NaN</td>\n",
              "      <td>3604.0</td>\n",
              "    </tr>\n",
              "    <tr>\n",
              "      <th>263014</th>\n",
              "      <td>10</td>\n",
              "      <td>NaN</td>\n",
              "      <td>NaN</td>\n",
              "      <td>NaN</td>\n",
              "      <td>NaN</td>\n",
              "      <td>NaN</td>\n",
              "      <td>NaN</td>\n",
              "      <td>NaN</td>\n",
              "      <td>NaN</td>\n",
              "      <td>NaN</td>\n",
              "      <td>NaN</td>\n",
              "      <td>NaN</td>\n",
              "    </tr>\n",
              "  </tbody>\n",
              "</table>\n",
              "<p>263015 rows × 12 columns</p>\n",
              "</div>"
            ],
            "text/plain": [
              "        User_ID Product_ID Gender    Age  Occupation City_Category  \\\n",
              "0       1000001  P00069042      F   0-17        10.0             A   \n",
              "1       1000001  P00248942      F   0-17        10.0             A   \n",
              "2       1000001  P00087842      F   0-17        10.0             A   \n",
              "3       1000001  P00085442      F   0-17        10.0             A   \n",
              "4       1000002  P00285442      M    55+        16.0             C   \n",
              "...         ...        ...    ...    ...         ...           ...   \n",
              "263010  1004473  P00041942      M  36-45         1.0             B   \n",
              "263011  1004473  P00115142      M  36-45         1.0             B   \n",
              "263012  1004473  P00188442      M  36-45         1.0             B   \n",
              "263013  1004473  P00119442      M  36-45         1.0             B   \n",
              "263014       10        NaN    NaN    NaN         NaN           NaN   \n",
              "\n",
              "       Stay_In_Current_City_Years  Marital_Status  Product_Category_1  \\\n",
              "0                               2             0.0                 3.0   \n",
              "1                               2             0.0                 1.0   \n",
              "2                               2             0.0                12.0   \n",
              "3                               2             0.0                12.0   \n",
              "4                              4+             0.0                 8.0   \n",
              "...                           ...             ...                 ...   \n",
              "263010                          3             0.0                 5.0   \n",
              "263011                          3             0.0                 1.0   \n",
              "263012                          3             0.0                 5.0   \n",
              "263013                          3             0.0                 5.0   \n",
              "263014                        NaN             NaN                 NaN   \n",
              "\n",
              "        Product_Category_2  Product_Category_3  Purchase  \n",
              "0                      NaN                 NaN    8370.0  \n",
              "1                      6.0                14.0   15200.0  \n",
              "2                      NaN                 NaN    1422.0  \n",
              "3                     14.0                 NaN    1057.0  \n",
              "4                      NaN                 NaN    7969.0  \n",
              "...                    ...                 ...       ...  \n",
              "263010                18.0                 NaN    3722.0  \n",
              "263011                 8.0                17.0   19253.0  \n",
              "263012                 7.0                 NaN    3608.0  \n",
              "263013                 NaN                 NaN    3604.0  \n",
              "263014                 NaN                 NaN       NaN  \n",
              "\n",
              "[263015 rows x 12 columns]"
            ]
          },
          "execution_count": 42,
          "metadata": {},
          "output_type": "execute_result"
        }
      ],
      "source": [
        "data"
      ]
    },
    {
      "cell_type": "code",
      "execution_count": null,
      "id": "e4584580",
      "metadata": {
        "id": "e4584580",
        "outputId": "8a97439f-bd75-45c2-d871-9aaea56def08"
      },
      "outputs": [
        {
          "name": "stdout",
          "output_type": "stream",
          "text": [
            "<class 'pandas.core.frame.DataFrame'>\n",
            "RangeIndex: 263015 entries, 0 to 263014\n",
            "Data columns (total 12 columns):\n",
            " #   Column                      Non-Null Count   Dtype  \n",
            "---  ------                      --------------   -----  \n",
            " 0   User_ID                     263015 non-null  int64  \n",
            " 1   Product_ID                  263014 non-null  object \n",
            " 2   Gender                      263014 non-null  object \n",
            " 3   Age                         263014 non-null  object \n",
            " 4   Occupation                  263014 non-null  float64\n",
            " 5   City_Category               263014 non-null  object \n",
            " 6   Stay_In_Current_City_Years  263014 non-null  object \n",
            " 7   Marital_Status              263014 non-null  float64\n",
            " 8   Product_Category_1          263014 non-null  float64\n",
            " 9   Product_Category_2          181501 non-null  float64\n",
            " 10  Product_Category_3          80582 non-null   float64\n",
            " 11  Purchase                    263014 non-null  float64\n",
            "dtypes: float64(6), int64(1), object(5)\n",
            "memory usage: 24.1+ MB\n"
          ]
        }
      ],
      "source": [
        "data.info()"
      ]
    },
    {
      "cell_type": "code",
      "execution_count": null,
      "id": "ae2b8d03",
      "metadata": {
        "id": "ae2b8d03",
        "outputId": "85cfdbe7-7d59-446d-b23b-b291e17c8e3c"
      },
      "outputs": [
        {
          "data": {
            "text/plain": [
              "User_ID                            0\n",
              "Product_ID                         1\n",
              "Gender                             1\n",
              "Age                                1\n",
              "Occupation                         1\n",
              "City_Category                      1\n",
              "Stay_In_Current_City_Years         1\n",
              "Marital_Status                     1\n",
              "Product_Category_1                 1\n",
              "Product_Category_2             81514\n",
              "Product_Category_3            182433\n",
              "Purchase                           1\n",
              "dtype: int64"
            ]
          },
          "execution_count": 44,
          "metadata": {},
          "output_type": "execute_result"
        }
      ],
      "source": [
        "data.isnull().sum()"
      ]
    },
    {
      "cell_type": "code",
      "execution_count": null,
      "id": "3c4641f4",
      "metadata": {
        "id": "3c4641f4"
      },
      "outputs": [],
      "source": [
        "# # drop null value or replace null values\n",
        "# less null values--- drop null value\n",
        "\n",
        "# more null values:\n",
        "#     dedicated to paticular columns -drop\n",
        "#     scattered amoung all the column -replacement"
      ]
    },
    {
      "cell_type": "code",
      "execution_count": null,
      "id": "85453f31",
      "metadata": {
        "id": "85453f31"
      },
      "outputs": [],
      "source": [
        "data.dropna(inplace=True)"
      ]
    },
    {
      "cell_type": "code",
      "execution_count": null,
      "id": "6c66a800",
      "metadata": {
        "scrolled": true,
        "id": "6c66a800",
        "outputId": "821e829c-9051-48e6-fd91-19625a1872d1"
      },
      "outputs": [
        {
          "data": {
            "text/html": [
              "<div>\n",
              "<style scoped>\n",
              "    .dataframe tbody tr th:only-of-type {\n",
              "        vertical-align: middle;\n",
              "    }\n",
              "\n",
              "    .dataframe tbody tr th {\n",
              "        vertical-align: top;\n",
              "    }\n",
              "\n",
              "    .dataframe thead th {\n",
              "        text-align: right;\n",
              "    }\n",
              "</style>\n",
              "<table border=\"1\" class=\"dataframe\">\n",
              "  <thead>\n",
              "    <tr style=\"text-align: right;\">\n",
              "      <th></th>\n",
              "      <th>User_ID</th>\n",
              "      <th>Product_ID</th>\n",
              "      <th>Gender</th>\n",
              "      <th>Age</th>\n",
              "      <th>Occupation</th>\n",
              "      <th>City_Category</th>\n",
              "      <th>Stay_In_Current_City_Years</th>\n",
              "      <th>Marital_Status</th>\n",
              "      <th>Product_Category_1</th>\n",
              "      <th>Product_Category_2</th>\n",
              "      <th>Product_Category_3</th>\n",
              "      <th>Purchase</th>\n",
              "    </tr>\n",
              "  </thead>\n",
              "  <tbody>\n",
              "    <tr>\n",
              "      <th>1</th>\n",
              "      <td>1000001</td>\n",
              "      <td>P00248942</td>\n",
              "      <td>F</td>\n",
              "      <td>0-17</td>\n",
              "      <td>10.0</td>\n",
              "      <td>A</td>\n",
              "      <td>2</td>\n",
              "      <td>0.0</td>\n",
              "      <td>1.0</td>\n",
              "      <td>6.0</td>\n",
              "      <td>14.0</td>\n",
              "      <td>15200.0</td>\n",
              "    </tr>\n",
              "    <tr>\n",
              "      <th>6</th>\n",
              "      <td>1000004</td>\n",
              "      <td>P00184942</td>\n",
              "      <td>M</td>\n",
              "      <td>46-50</td>\n",
              "      <td>7.0</td>\n",
              "      <td>B</td>\n",
              "      <td>2</td>\n",
              "      <td>1.0</td>\n",
              "      <td>1.0</td>\n",
              "      <td>8.0</td>\n",
              "      <td>17.0</td>\n",
              "      <td>19215.0</td>\n",
              "    </tr>\n",
              "    <tr>\n",
              "      <th>13</th>\n",
              "      <td>1000005</td>\n",
              "      <td>P00145042</td>\n",
              "      <td>M</td>\n",
              "      <td>26-35</td>\n",
              "      <td>20.0</td>\n",
              "      <td>A</td>\n",
              "      <td>1</td>\n",
              "      <td>1.0</td>\n",
              "      <td>1.0</td>\n",
              "      <td>2.0</td>\n",
              "      <td>5.0</td>\n",
              "      <td>15665.0</td>\n",
              "    </tr>\n",
              "    <tr>\n",
              "      <th>14</th>\n",
              "      <td>1000006</td>\n",
              "      <td>P00231342</td>\n",
              "      <td>F</td>\n",
              "      <td>51-55</td>\n",
              "      <td>9.0</td>\n",
              "      <td>A</td>\n",
              "      <td>1</td>\n",
              "      <td>0.0</td>\n",
              "      <td>5.0</td>\n",
              "      <td>8.0</td>\n",
              "      <td>14.0</td>\n",
              "      <td>5378.0</td>\n",
              "    </tr>\n",
              "    <tr>\n",
              "      <th>16</th>\n",
              "      <td>1000006</td>\n",
              "      <td>P0096642</td>\n",
              "      <td>F</td>\n",
              "      <td>51-55</td>\n",
              "      <td>9.0</td>\n",
              "      <td>A</td>\n",
              "      <td>1</td>\n",
              "      <td>0.0</td>\n",
              "      <td>2.0</td>\n",
              "      <td>3.0</td>\n",
              "      <td>4.0</td>\n",
              "      <td>13055.0</td>\n",
              "    </tr>\n",
              "    <tr>\n",
              "      <th>...</th>\n",
              "      <td>...</td>\n",
              "      <td>...</td>\n",
              "      <td>...</td>\n",
              "      <td>...</td>\n",
              "      <td>...</td>\n",
              "      <td>...</td>\n",
              "      <td>...</td>\n",
              "      <td>...</td>\n",
              "      <td>...</td>\n",
              "      <td>...</td>\n",
              "      <td>...</td>\n",
              "      <td>...</td>\n",
              "    </tr>\n",
              "    <tr>\n",
              "      <th>262997</th>\n",
              "      <td>1004472</td>\n",
              "      <td>P00262242</td>\n",
              "      <td>F</td>\n",
              "      <td>46-50</td>\n",
              "      <td>16.0</td>\n",
              "      <td>B</td>\n",
              "      <td>0</td>\n",
              "      <td>1.0</td>\n",
              "      <td>1.0</td>\n",
              "      <td>11.0</td>\n",
              "      <td>16.0</td>\n",
              "      <td>15175.0</td>\n",
              "    </tr>\n",
              "    <tr>\n",
              "      <th>263001</th>\n",
              "      <td>1004472</td>\n",
              "      <td>P00209742</td>\n",
              "      <td>F</td>\n",
              "      <td>46-50</td>\n",
              "      <td>16.0</td>\n",
              "      <td>B</td>\n",
              "      <td>0</td>\n",
              "      <td>1.0</td>\n",
              "      <td>1.0</td>\n",
              "      <td>11.0</td>\n",
              "      <td>15.0</td>\n",
              "      <td>15430.0</td>\n",
              "    </tr>\n",
              "    <tr>\n",
              "      <th>263003</th>\n",
              "      <td>1004472</td>\n",
              "      <td>P00345742</td>\n",
              "      <td>F</td>\n",
              "      <td>46-50</td>\n",
              "      <td>16.0</td>\n",
              "      <td>B</td>\n",
              "      <td>0</td>\n",
              "      <td>1.0</td>\n",
              "      <td>1.0</td>\n",
              "      <td>2.0</td>\n",
              "      <td>15.0</td>\n",
              "      <td>15387.0</td>\n",
              "    </tr>\n",
              "    <tr>\n",
              "      <th>263006</th>\n",
              "      <td>1004472</td>\n",
              "      <td>P00034142</td>\n",
              "      <td>F</td>\n",
              "      <td>46-50</td>\n",
              "      <td>16.0</td>\n",
              "      <td>B</td>\n",
              "      <td>0</td>\n",
              "      <td>1.0</td>\n",
              "      <td>8.0</td>\n",
              "      <td>13.0</td>\n",
              "      <td>16.0</td>\n",
              "      <td>5861.0</td>\n",
              "    </tr>\n",
              "    <tr>\n",
              "      <th>263011</th>\n",
              "      <td>1004473</td>\n",
              "      <td>P00115142</td>\n",
              "      <td>M</td>\n",
              "      <td>36-45</td>\n",
              "      <td>1.0</td>\n",
              "      <td>B</td>\n",
              "      <td>3</td>\n",
              "      <td>0.0</td>\n",
              "      <td>1.0</td>\n",
              "      <td>8.0</td>\n",
              "      <td>17.0</td>\n",
              "      <td>19253.0</td>\n",
              "    </tr>\n",
              "  </tbody>\n",
              "</table>\n",
              "<p>80582 rows × 12 columns</p>\n",
              "</div>"
            ],
            "text/plain": [
              "        User_ID Product_ID Gender    Age  Occupation City_Category  \\\n",
              "1       1000001  P00248942      F   0-17        10.0             A   \n",
              "6       1000004  P00184942      M  46-50         7.0             B   \n",
              "13      1000005  P00145042      M  26-35        20.0             A   \n",
              "14      1000006  P00231342      F  51-55         9.0             A   \n",
              "16      1000006   P0096642      F  51-55         9.0             A   \n",
              "...         ...        ...    ...    ...         ...           ...   \n",
              "262997  1004472  P00262242      F  46-50        16.0             B   \n",
              "263001  1004472  P00209742      F  46-50        16.0             B   \n",
              "263003  1004472  P00345742      F  46-50        16.0             B   \n",
              "263006  1004472  P00034142      F  46-50        16.0             B   \n",
              "263011  1004473  P00115142      M  36-45         1.0             B   \n",
              "\n",
              "       Stay_In_Current_City_Years  Marital_Status  Product_Category_1  \\\n",
              "1                               2             0.0                 1.0   \n",
              "6                               2             1.0                 1.0   \n",
              "13                              1             1.0                 1.0   \n",
              "14                              1             0.0                 5.0   \n",
              "16                              1             0.0                 2.0   \n",
              "...                           ...             ...                 ...   \n",
              "262997                          0             1.0                 1.0   \n",
              "263001                          0             1.0                 1.0   \n",
              "263003                          0             1.0                 1.0   \n",
              "263006                          0             1.0                 8.0   \n",
              "263011                          3             0.0                 1.0   \n",
              "\n",
              "        Product_Category_2  Product_Category_3  Purchase  \n",
              "1                      6.0                14.0   15200.0  \n",
              "6                      8.0                17.0   19215.0  \n",
              "13                     2.0                 5.0   15665.0  \n",
              "14                     8.0                14.0    5378.0  \n",
              "16                     3.0                 4.0   13055.0  \n",
              "...                    ...                 ...       ...  \n",
              "262997                11.0                16.0   15175.0  \n",
              "263001                11.0                15.0   15430.0  \n",
              "263003                 2.0                15.0   15387.0  \n",
              "263006                13.0                16.0    5861.0  \n",
              "263011                 8.0                17.0   19253.0  \n",
              "\n",
              "[80582 rows x 12 columns]"
            ]
          },
          "execution_count": 47,
          "metadata": {},
          "output_type": "execute_result"
        }
      ],
      "source": [
        "data"
      ]
    },
    {
      "cell_type": "code",
      "execution_count": null,
      "id": "36a85490",
      "metadata": {
        "id": "36a85490",
        "outputId": "3c2660ab-d334-4041-c0bf-fa87eae27d32"
      },
      "outputs": [
        {
          "data": {
            "text/plain": [
              "0"
            ]
          },
          "execution_count": 48,
          "metadata": {},
          "output_type": "execute_result"
        }
      ],
      "source": [
        "data.duplicated().sum()"
      ]
    },
    {
      "cell_type": "code",
      "execution_count": null,
      "id": "3c539938",
      "metadata": {
        "id": "3c539938",
        "outputId": "aa9329ec-d85b-4603-90cc-e15be31079c1"
      },
      "outputs": [
        {
          "name": "stdout",
          "output_type": "stream",
          "text": [
            "<class 'pandas.core.frame.DataFrame'>\n",
            "Int64Index: 80582 entries, 1 to 263011\n",
            "Data columns (total 12 columns):\n",
            " #   Column                      Non-Null Count  Dtype  \n",
            "---  ------                      --------------  -----  \n",
            " 0   User_ID                     80582 non-null  int64  \n",
            " 1   Product_ID                  80582 non-null  object \n",
            " 2   Gender                      80582 non-null  object \n",
            " 3   Age                         80582 non-null  object \n",
            " 4   Occupation                  80582 non-null  float64\n",
            " 5   City_Category               80582 non-null  object \n",
            " 6   Stay_In_Current_City_Years  80582 non-null  object \n",
            " 7   Marital_Status              80582 non-null  float64\n",
            " 8   Product_Category_1          80582 non-null  float64\n",
            " 9   Product_Category_2          80582 non-null  float64\n",
            " 10  Product_Category_3          80582 non-null  float64\n",
            " 11  Purchase                    80582 non-null  float64\n",
            "dtypes: float64(6), int64(1), object(5)\n",
            "memory usage: 8.0+ MB\n"
          ]
        }
      ],
      "source": [
        "data.info()"
      ]
    },
    {
      "cell_type": "code",
      "execution_count": null,
      "id": "73fbb660",
      "metadata": {
        "id": "73fbb660",
        "outputId": "5f1632fc-5614-4e94-9bef-f28480a741bf"
      },
      "outputs": [
        {
          "data": {
            "text/html": [
              "<div>\n",
              "<style scoped>\n",
              "    .dataframe tbody tr th:only-of-type {\n",
              "        vertical-align: middle;\n",
              "    }\n",
              "\n",
              "    .dataframe tbody tr th {\n",
              "        vertical-align: top;\n",
              "    }\n",
              "\n",
              "    .dataframe thead th {\n",
              "        text-align: right;\n",
              "    }\n",
              "</style>\n",
              "<table border=\"1\" class=\"dataframe\">\n",
              "  <thead>\n",
              "    <tr style=\"text-align: right;\">\n",
              "      <th></th>\n",
              "      <th>User_ID</th>\n",
              "      <th>Product_ID</th>\n",
              "      <th>Gender</th>\n",
              "      <th>Age</th>\n",
              "      <th>Occupation</th>\n",
              "      <th>City_Category</th>\n",
              "      <th>Stay_In_Current_City_Years</th>\n",
              "      <th>Marital_Status</th>\n",
              "      <th>Product_Category_1</th>\n",
              "      <th>Product_Category_2</th>\n",
              "      <th>Product_Category_3</th>\n",
              "      <th>Purchase</th>\n",
              "    </tr>\n",
              "  </thead>\n",
              "  <tbody>\n",
              "    <tr>\n",
              "      <th>1</th>\n",
              "      <td>1000001</td>\n",
              "      <td>P00248942</td>\n",
              "      <td>F</td>\n",
              "      <td>0-17</td>\n",
              "      <td>10.0</td>\n",
              "      <td>A</td>\n",
              "      <td>2</td>\n",
              "      <td>0.0</td>\n",
              "      <td>1.0</td>\n",
              "      <td>6.0</td>\n",
              "      <td>14.0</td>\n",
              "      <td>15200.0</td>\n",
              "    </tr>\n",
              "    <tr>\n",
              "      <th>6</th>\n",
              "      <td>1000004</td>\n",
              "      <td>P00184942</td>\n",
              "      <td>M</td>\n",
              "      <td>46-50</td>\n",
              "      <td>7.0</td>\n",
              "      <td>B</td>\n",
              "      <td>2</td>\n",
              "      <td>1.0</td>\n",
              "      <td>1.0</td>\n",
              "      <td>8.0</td>\n",
              "      <td>17.0</td>\n",
              "      <td>19215.0</td>\n",
              "    </tr>\n",
              "    <tr>\n",
              "      <th>13</th>\n",
              "      <td>1000005</td>\n",
              "      <td>P00145042</td>\n",
              "      <td>M</td>\n",
              "      <td>26-35</td>\n",
              "      <td>20.0</td>\n",
              "      <td>A</td>\n",
              "      <td>1</td>\n",
              "      <td>1.0</td>\n",
              "      <td>1.0</td>\n",
              "      <td>2.0</td>\n",
              "      <td>5.0</td>\n",
              "      <td>15665.0</td>\n",
              "    </tr>\n",
              "    <tr>\n",
              "      <th>14</th>\n",
              "      <td>1000006</td>\n",
              "      <td>P00231342</td>\n",
              "      <td>F</td>\n",
              "      <td>51-55</td>\n",
              "      <td>9.0</td>\n",
              "      <td>A</td>\n",
              "      <td>1</td>\n",
              "      <td>0.0</td>\n",
              "      <td>5.0</td>\n",
              "      <td>8.0</td>\n",
              "      <td>14.0</td>\n",
              "      <td>5378.0</td>\n",
              "    </tr>\n",
              "    <tr>\n",
              "      <th>16</th>\n",
              "      <td>1000006</td>\n",
              "      <td>P0096642</td>\n",
              "      <td>F</td>\n",
              "      <td>51-55</td>\n",
              "      <td>9.0</td>\n",
              "      <td>A</td>\n",
              "      <td>1</td>\n",
              "      <td>0.0</td>\n",
              "      <td>2.0</td>\n",
              "      <td>3.0</td>\n",
              "      <td>4.0</td>\n",
              "      <td>13055.0</td>\n",
              "    </tr>\n",
              "    <tr>\n",
              "      <th>...</th>\n",
              "      <td>...</td>\n",
              "      <td>...</td>\n",
              "      <td>...</td>\n",
              "      <td>...</td>\n",
              "      <td>...</td>\n",
              "      <td>...</td>\n",
              "      <td>...</td>\n",
              "      <td>...</td>\n",
              "      <td>...</td>\n",
              "      <td>...</td>\n",
              "      <td>...</td>\n",
              "      <td>...</td>\n",
              "    </tr>\n",
              "    <tr>\n",
              "      <th>262997</th>\n",
              "      <td>1004472</td>\n",
              "      <td>P00262242</td>\n",
              "      <td>F</td>\n",
              "      <td>46-50</td>\n",
              "      <td>16.0</td>\n",
              "      <td>B</td>\n",
              "      <td>0</td>\n",
              "      <td>1.0</td>\n",
              "      <td>1.0</td>\n",
              "      <td>11.0</td>\n",
              "      <td>16.0</td>\n",
              "      <td>15175.0</td>\n",
              "    </tr>\n",
              "    <tr>\n",
              "      <th>263001</th>\n",
              "      <td>1004472</td>\n",
              "      <td>P00209742</td>\n",
              "      <td>F</td>\n",
              "      <td>46-50</td>\n",
              "      <td>16.0</td>\n",
              "      <td>B</td>\n",
              "      <td>0</td>\n",
              "      <td>1.0</td>\n",
              "      <td>1.0</td>\n",
              "      <td>11.0</td>\n",
              "      <td>15.0</td>\n",
              "      <td>15430.0</td>\n",
              "    </tr>\n",
              "    <tr>\n",
              "      <th>263003</th>\n",
              "      <td>1004472</td>\n",
              "      <td>P00345742</td>\n",
              "      <td>F</td>\n",
              "      <td>46-50</td>\n",
              "      <td>16.0</td>\n",
              "      <td>B</td>\n",
              "      <td>0</td>\n",
              "      <td>1.0</td>\n",
              "      <td>1.0</td>\n",
              "      <td>2.0</td>\n",
              "      <td>15.0</td>\n",
              "      <td>15387.0</td>\n",
              "    </tr>\n",
              "    <tr>\n",
              "      <th>263006</th>\n",
              "      <td>1004472</td>\n",
              "      <td>P00034142</td>\n",
              "      <td>F</td>\n",
              "      <td>46-50</td>\n",
              "      <td>16.0</td>\n",
              "      <td>B</td>\n",
              "      <td>0</td>\n",
              "      <td>1.0</td>\n",
              "      <td>8.0</td>\n",
              "      <td>13.0</td>\n",
              "      <td>16.0</td>\n",
              "      <td>5861.0</td>\n",
              "    </tr>\n",
              "    <tr>\n",
              "      <th>263011</th>\n",
              "      <td>1004473</td>\n",
              "      <td>P00115142</td>\n",
              "      <td>M</td>\n",
              "      <td>36-45</td>\n",
              "      <td>1.0</td>\n",
              "      <td>B</td>\n",
              "      <td>3</td>\n",
              "      <td>0.0</td>\n",
              "      <td>1.0</td>\n",
              "      <td>8.0</td>\n",
              "      <td>17.0</td>\n",
              "      <td>19253.0</td>\n",
              "    </tr>\n",
              "  </tbody>\n",
              "</table>\n",
              "<p>80582 rows × 12 columns</p>\n",
              "</div>"
            ],
            "text/plain": [
              "        User_ID Product_ID Gender    Age  Occupation City_Category  \\\n",
              "1       1000001  P00248942      F   0-17        10.0             A   \n",
              "6       1000004  P00184942      M  46-50         7.0             B   \n",
              "13      1000005  P00145042      M  26-35        20.0             A   \n",
              "14      1000006  P00231342      F  51-55         9.0             A   \n",
              "16      1000006   P0096642      F  51-55         9.0             A   \n",
              "...         ...        ...    ...    ...         ...           ...   \n",
              "262997  1004472  P00262242      F  46-50        16.0             B   \n",
              "263001  1004472  P00209742      F  46-50        16.0             B   \n",
              "263003  1004472  P00345742      F  46-50        16.0             B   \n",
              "263006  1004472  P00034142      F  46-50        16.0             B   \n",
              "263011  1004473  P00115142      M  36-45         1.0             B   \n",
              "\n",
              "       Stay_In_Current_City_Years  Marital_Status  Product_Category_1  \\\n",
              "1                               2             0.0                 1.0   \n",
              "6                               2             1.0                 1.0   \n",
              "13                              1             1.0                 1.0   \n",
              "14                              1             0.0                 5.0   \n",
              "16                              1             0.0                 2.0   \n",
              "...                           ...             ...                 ...   \n",
              "262997                          0             1.0                 1.0   \n",
              "263001                          0             1.0                 1.0   \n",
              "263003                          0             1.0                 1.0   \n",
              "263006                          0             1.0                 8.0   \n",
              "263011                          3             0.0                 1.0   \n",
              "\n",
              "        Product_Category_2  Product_Category_3  Purchase  \n",
              "1                      6.0                14.0   15200.0  \n",
              "6                      8.0                17.0   19215.0  \n",
              "13                     2.0                 5.0   15665.0  \n",
              "14                     8.0                14.0    5378.0  \n",
              "16                     3.0                 4.0   13055.0  \n",
              "...                    ...                 ...       ...  \n",
              "262997                11.0                16.0   15175.0  \n",
              "263001                11.0                15.0   15430.0  \n",
              "263003                 2.0                15.0   15387.0  \n",
              "263006                13.0                16.0    5861.0  \n",
              "263011                 8.0                17.0   19253.0  \n",
              "\n",
              "[80582 rows x 12 columns]"
            ]
          },
          "execution_count": 50,
          "metadata": {},
          "output_type": "execute_result"
        }
      ],
      "source": [
        "data"
      ]
    },
    {
      "cell_type": "code",
      "execution_count": null,
      "id": "1ecb3d18",
      "metadata": {
        "scrolled": true,
        "id": "1ecb3d18",
        "outputId": "3f7677e4-d430-47e2-adf3-6c96d40a049a"
      },
      "outputs": [
        {
          "data": {
            "text/plain": [
              "1     28263\n",
              "2     15135\n",
              "3     14092\n",
              "4+    12284\n",
              "0     10808\n",
              "Name: Stay_In_Current_City_Years, dtype: int64"
            ]
          },
          "execution_count": 51,
          "metadata": {},
          "output_type": "execute_result"
        }
      ],
      "source": [
        "data[\"Stay_In_Current_City_Years\"].value_counts()"
      ]
    },
    {
      "cell_type": "code",
      "execution_count": null,
      "id": "d0f168c0",
      "metadata": {
        "id": "d0f168c0"
      },
      "outputs": [],
      "source": [
        "data[\"Stay_In_Current_City_Years\"]=data[\"Stay_In_Current_City_Years\"].replace(\"4+\",\"4\")"
      ]
    },
    {
      "cell_type": "code",
      "execution_count": null,
      "id": "076fe9ac",
      "metadata": {
        "scrolled": true,
        "id": "076fe9ac",
        "outputId": "e03c2e07-92df-40cf-97b0-21082559d730"
      },
      "outputs": [
        {
          "data": {
            "text/plain": [
              "1    28263\n",
              "2    15135\n",
              "3    14092\n",
              "4    12284\n",
              "0    10808\n",
              "Name: Stay_In_Current_City_Years, dtype: int64"
            ]
          },
          "execution_count": 53,
          "metadata": {},
          "output_type": "execute_result"
        }
      ],
      "source": [
        "data[\"Stay_In_Current_City_Years\"].value_counts()"
      ]
    },
    {
      "cell_type": "code",
      "execution_count": null,
      "id": "ea676e0b",
      "metadata": {
        "id": "ea676e0b",
        "outputId": "4203387f-6b04-46a2-d95e-3d89266427d7"
      },
      "outputs": [
        {
          "name": "stdout",
          "output_type": "stream",
          "text": [
            "<class 'pandas.core.frame.DataFrame'>\n",
            "Int64Index: 80582 entries, 1 to 263011\n",
            "Data columns (total 12 columns):\n",
            " #   Column                      Non-Null Count  Dtype  \n",
            "---  ------                      --------------  -----  \n",
            " 0   User_ID                     80582 non-null  int64  \n",
            " 1   Product_ID                  80582 non-null  object \n",
            " 2   Gender                      80582 non-null  object \n",
            " 3   Age                         80582 non-null  object \n",
            " 4   Occupation                  80582 non-null  float64\n",
            " 5   City_Category               80582 non-null  object \n",
            " 6   Stay_In_Current_City_Years  80582 non-null  object \n",
            " 7   Marital_Status              80582 non-null  float64\n",
            " 8   Product_Category_1          80582 non-null  float64\n",
            " 9   Product_Category_2          80582 non-null  float64\n",
            " 10  Product_Category_3          80582 non-null  float64\n",
            " 11  Purchase                    80582 non-null  float64\n",
            "dtypes: float64(6), int64(1), object(5)\n",
            "memory usage: 8.0+ MB\n"
          ]
        }
      ],
      "source": [
        "data.info()"
      ]
    },
    {
      "cell_type": "code",
      "execution_count": null,
      "id": "4e42c4b1",
      "metadata": {
        "id": "4e42c4b1"
      },
      "outputs": [],
      "source": [
        "data[\"Stay_In_Current_City_Years\"]=data[\"Stay_In_Current_City_Years\"].astype(int)"
      ]
    },
    {
      "cell_type": "code",
      "execution_count": null,
      "id": "c553cef9",
      "metadata": {
        "id": "c553cef9"
      },
      "outputs": [],
      "source": [
        "# data[\"Stay_In_Current_City_Years\"]=pd.to_numeric(data[\"Stay_In_Current_City_Years\"],errors=\"coerce\")"
      ]
    },
    {
      "cell_type": "code",
      "execution_count": null,
      "id": "412527ca",
      "metadata": {
        "id": "412527ca",
        "outputId": "769d92b9-c99f-43a8-88a5-981235f45aa5"
      },
      "outputs": [
        {
          "name": "stdout",
          "output_type": "stream",
          "text": [
            "<class 'pandas.core.frame.DataFrame'>\n",
            "Int64Index: 80582 entries, 1 to 263011\n",
            "Data columns (total 12 columns):\n",
            " #   Column                      Non-Null Count  Dtype  \n",
            "---  ------                      --------------  -----  \n",
            " 0   User_ID                     80582 non-null  int64  \n",
            " 1   Product_ID                  80582 non-null  object \n",
            " 2   Gender                      80582 non-null  object \n",
            " 3   Age                         80582 non-null  object \n",
            " 4   Occupation                  80582 non-null  float64\n",
            " 5   City_Category               80582 non-null  object \n",
            " 6   Stay_In_Current_City_Years  80582 non-null  int32  \n",
            " 7   Marital_Status              80582 non-null  float64\n",
            " 8   Product_Category_1          80582 non-null  float64\n",
            " 9   Product_Category_2          80582 non-null  float64\n",
            " 10  Product_Category_3          80582 non-null  float64\n",
            " 11  Purchase                    80582 non-null  float64\n",
            "dtypes: float64(6), int32(1), int64(1), object(4)\n",
            "memory usage: 7.7+ MB\n"
          ]
        }
      ],
      "source": [
        "data.info()"
      ]
    },
    {
      "cell_type": "code",
      "execution_count": null,
      "id": "c574a33a",
      "metadata": {
        "id": "c574a33a",
        "outputId": "d755a8f1-9391-4e7b-a9fb-4620723d1d4e"
      },
      "outputs": [
        {
          "data": {
            "text/plain": [
              "array(['0-17', '46-50', '26-35', '51-55', '36-45', '18-25', '55+'],\n",
              "      dtype=object)"
            ]
          },
          "execution_count": 58,
          "metadata": {},
          "output_type": "execute_result"
        }
      ],
      "source": [
        "data[\"Age\"].unique()"
      ]
    },
    {
      "cell_type": "code",
      "execution_count": null,
      "id": "09e0d3eb",
      "metadata": {
        "id": "09e0d3eb"
      },
      "outputs": [],
      "source": []
    },
    {
      "cell_type": "code",
      "execution_count": null,
      "id": "4c908bef",
      "metadata": {
        "id": "4c908bef"
      },
      "outputs": [],
      "source": []
    },
    {
      "cell_type": "code",
      "execution_count": null,
      "id": "9ec7ac29",
      "metadata": {
        "id": "9ec7ac29",
        "outputId": "08be14c9-8f59-4305-9b1f-2ec8e6116c7a"
      },
      "outputs": [
        {
          "data": {
            "text/plain": [
              "Index(['User_ID', 'Product_ID', 'Gender', 'Age', 'Occupation', 'City_Category',\n",
              "       'Stay_In_Current_City_Years', 'Marital_Status', 'Product_Category_1',\n",
              "       'Product_Category_2', 'Product_Category_3', 'Purchase'],\n",
              "      dtype='object')"
            ]
          },
          "execution_count": 61,
          "metadata": {},
          "output_type": "execute_result"
        }
      ],
      "source": [
        "data.columns"
      ]
    },
    {
      "cell_type": "code",
      "execution_count": null,
      "id": "5e765c9e",
      "metadata": {
        "id": "5e765c9e"
      },
      "outputs": [],
      "source": []
    },
    {
      "cell_type": "code",
      "execution_count": null,
      "id": "01e03377",
      "metadata": {
        "scrolled": true,
        "id": "01e03377",
        "outputId": "f7c6374e-ff6a-45b4-f45b-e67a5abd3190"
      },
      "outputs": [
        {
          "data": {
            "text/html": [
              "<div>\n",
              "<style scoped>\n",
              "    .dataframe tbody tr th:only-of-type {\n",
              "        vertical-align: middle;\n",
              "    }\n",
              "\n",
              "    .dataframe tbody tr th {\n",
              "        vertical-align: top;\n",
              "    }\n",
              "\n",
              "    .dataframe thead th {\n",
              "        text-align: right;\n",
              "    }\n",
              "</style>\n",
              "<table border=\"1\" class=\"dataframe\">\n",
              "  <thead>\n",
              "    <tr style=\"text-align: right;\">\n",
              "      <th></th>\n",
              "      <th>User_ID</th>\n",
              "      <th>Product_ID</th>\n",
              "      <th>Gender</th>\n",
              "      <th>Age</th>\n",
              "      <th>Occupation</th>\n",
              "      <th>City_Category</th>\n",
              "      <th>Stay_In_Current_City_Years</th>\n",
              "      <th>Marital_Status</th>\n",
              "      <th>Product_Category_1</th>\n",
              "      <th>Product_Category_2</th>\n",
              "      <th>Product_Category_3</th>\n",
              "      <th>Purchase</th>\n",
              "    </tr>\n",
              "  </thead>\n",
              "  <tbody>\n",
              "    <tr>\n",
              "      <th>1</th>\n",
              "      <td>1000001</td>\n",
              "      <td>391</td>\n",
              "      <td>0</td>\n",
              "      <td>0</td>\n",
              "      <td>10.0</td>\n",
              "      <td>0</td>\n",
              "      <td>2</td>\n",
              "      <td>0.0</td>\n",
              "      <td>1.0</td>\n",
              "      <td>6.0</td>\n",
              "      <td>14.0</td>\n",
              "      <td>15200.0</td>\n",
              "    </tr>\n",
              "    <tr>\n",
              "      <th>6</th>\n",
              "      <td>1000004</td>\n",
              "      <td>284</td>\n",
              "      <td>1</td>\n",
              "      <td>4</td>\n",
              "      <td>7.0</td>\n",
              "      <td>1</td>\n",
              "      <td>2</td>\n",
              "      <td>1.0</td>\n",
              "      <td>1.0</td>\n",
              "      <td>8.0</td>\n",
              "      <td>17.0</td>\n",
              "      <td>19215.0</td>\n",
              "    </tr>\n",
              "    <tr>\n",
              "      <th>13</th>\n",
              "      <td>1000005</td>\n",
              "      <td>211</td>\n",
              "      <td>1</td>\n",
              "      <td>2</td>\n",
              "      <td>20.0</td>\n",
              "      <td>0</td>\n",
              "      <td>1</td>\n",
              "      <td>1.0</td>\n",
              "      <td>1.0</td>\n",
              "      <td>2.0</td>\n",
              "      <td>5.0</td>\n",
              "      <td>15665.0</td>\n",
              "    </tr>\n",
              "    <tr>\n",
              "      <th>14</th>\n",
              "      <td>1000006</td>\n",
              "      <td>363</td>\n",
              "      <td>0</td>\n",
              "      <td>5</td>\n",
              "      <td>9.0</td>\n",
              "      <td>0</td>\n",
              "      <td>1</td>\n",
              "      <td>0.0</td>\n",
              "      <td>5.0</td>\n",
              "      <td>8.0</td>\n",
              "      <td>14.0</td>\n",
              "      <td>5378.0</td>\n",
              "    </tr>\n",
              "    <tr>\n",
              "      <th>16</th>\n",
              "      <td>1000006</td>\n",
              "      <td>517</td>\n",
              "      <td>0</td>\n",
              "      <td>5</td>\n",
              "      <td>9.0</td>\n",
              "      <td>0</td>\n",
              "      <td>1</td>\n",
              "      <td>0.0</td>\n",
              "      <td>2.0</td>\n",
              "      <td>3.0</td>\n",
              "      <td>4.0</td>\n",
              "      <td>13055.0</td>\n",
              "    </tr>\n",
              "    <tr>\n",
              "      <th>...</th>\n",
              "      <td>...</td>\n",
              "      <td>...</td>\n",
              "      <td>...</td>\n",
              "      <td>...</td>\n",
              "      <td>...</td>\n",
              "      <td>...</td>\n",
              "      <td>...</td>\n",
              "      <td>...</td>\n",
              "      <td>...</td>\n",
              "      <td>...</td>\n",
              "      <td>...</td>\n",
              "      <td>...</td>\n",
              "    </tr>\n",
              "    <tr>\n",
              "      <th>262997</th>\n",
              "      <td>1004472</td>\n",
              "      <td>402</td>\n",
              "      <td>0</td>\n",
              "      <td>4</td>\n",
              "      <td>16.0</td>\n",
              "      <td>1</td>\n",
              "      <td>0</td>\n",
              "      <td>1.0</td>\n",
              "      <td>1.0</td>\n",
              "      <td>11.0</td>\n",
              "      <td>16.0</td>\n",
              "      <td>15175.0</td>\n",
              "    </tr>\n",
              "    <tr>\n",
              "      <th>263001</th>\n",
              "      <td>1004472</td>\n",
              "      <td>337</td>\n",
              "      <td>0</td>\n",
              "      <td>4</td>\n",
              "      <td>16.0</td>\n",
              "      <td>1</td>\n",
              "      <td>0</td>\n",
              "      <td>1.0</td>\n",
              "      <td>1.0</td>\n",
              "      <td>11.0</td>\n",
              "      <td>15.0</td>\n",
              "      <td>15430.0</td>\n",
              "    </tr>\n",
              "    <tr>\n",
              "      <th>263003</th>\n",
              "      <td>1004472</td>\n",
              "      <td>480</td>\n",
              "      <td>0</td>\n",
              "      <td>4</td>\n",
              "      <td>16.0</td>\n",
              "      <td>1</td>\n",
              "      <td>0</td>\n",
              "      <td>1.0</td>\n",
              "      <td>1.0</td>\n",
              "      <td>2.0</td>\n",
              "      <td>15.0</td>\n",
              "      <td>15387.0</td>\n",
              "    </tr>\n",
              "    <tr>\n",
              "      <th>263006</th>\n",
              "      <td>1004472</td>\n",
              "      <td>49</td>\n",
              "      <td>0</td>\n",
              "      <td>4</td>\n",
              "      <td>16.0</td>\n",
              "      <td>1</td>\n",
              "      <td>0</td>\n",
              "      <td>1.0</td>\n",
              "      <td>8.0</td>\n",
              "      <td>13.0</td>\n",
              "      <td>16.0</td>\n",
              "      <td>5861.0</td>\n",
              "    </tr>\n",
              "    <tr>\n",
              "      <th>263011</th>\n",
              "      <td>1004473</td>\n",
              "      <td>159</td>\n",
              "      <td>1</td>\n",
              "      <td>3</td>\n",
              "      <td>1.0</td>\n",
              "      <td>1</td>\n",
              "      <td>3</td>\n",
              "      <td>0.0</td>\n",
              "      <td>1.0</td>\n",
              "      <td>8.0</td>\n",
              "      <td>17.0</td>\n",
              "      <td>19253.0</td>\n",
              "    </tr>\n",
              "  </tbody>\n",
              "</table>\n",
              "<p>80582 rows × 12 columns</p>\n",
              "</div>"
            ],
            "text/plain": [
              "        User_ID  Product_ID  Gender  Age  Occupation  City_Category  \\\n",
              "1       1000001         391       0    0        10.0              0   \n",
              "6       1000004         284       1    4         7.0              1   \n",
              "13      1000005         211       1    2        20.0              0   \n",
              "14      1000006         363       0    5         9.0              0   \n",
              "16      1000006         517       0    5         9.0              0   \n",
              "...         ...         ...     ...  ...         ...            ...   \n",
              "262997  1004472         402       0    4        16.0              1   \n",
              "263001  1004472         337       0    4        16.0              1   \n",
              "263003  1004472         480       0    4        16.0              1   \n",
              "263006  1004472          49       0    4        16.0              1   \n",
              "263011  1004473         159       1    3         1.0              1   \n",
              "\n",
              "        Stay_In_Current_City_Years  Marital_Status  Product_Category_1  \\\n",
              "1                                2             0.0                 1.0   \n",
              "6                                2             1.0                 1.0   \n",
              "13                               1             1.0                 1.0   \n",
              "14                               1             0.0                 5.0   \n",
              "16                               1             0.0                 2.0   \n",
              "...                            ...             ...                 ...   \n",
              "262997                           0             1.0                 1.0   \n",
              "263001                           0             1.0                 1.0   \n",
              "263003                           0             1.0                 1.0   \n",
              "263006                           0             1.0                 8.0   \n",
              "263011                           3             0.0                 1.0   \n",
              "\n",
              "        Product_Category_2  Product_Category_3  Purchase  \n",
              "1                      6.0                14.0   15200.0  \n",
              "6                      8.0                17.0   19215.0  \n",
              "13                     2.0                 5.0   15665.0  \n",
              "14                     8.0                14.0    5378.0  \n",
              "16                     3.0                 4.0   13055.0  \n",
              "...                    ...                 ...       ...  \n",
              "262997                11.0                16.0   15175.0  \n",
              "263001                11.0                15.0   15430.0  \n",
              "263003                 2.0                15.0   15387.0  \n",
              "263006                13.0                16.0    5861.0  \n",
              "263011                 8.0                17.0   19253.0  \n",
              "\n",
              "[80582 rows x 12 columns]"
            ]
          },
          "execution_count": 63,
          "metadata": {},
          "output_type": "execute_result"
        }
      ],
      "source": [
        "data"
      ]
    },
    {
      "cell_type": "code",
      "execution_count": null,
      "id": "4261fce0",
      "metadata": {
        "id": "4261fce0"
      },
      "outputs": [],
      "source": [
        "#Visualization"
      ]
    },
    {
      "cell_type": "code",
      "execution_count": null,
      "id": "cbdcfc36",
      "metadata": {
        "id": "cbdcfc36",
        "outputId": "eaae7f8e-53d2-4f7f-84f3-38c77408fb52"
      },
      "outputs": [
        {
          "name": "stderr",
          "output_type": "stream",
          "text": [
            "C:\\Users\\Dell\\anaconda3\\lib\\site-packages\\seaborn\\_decorators.py:36: FutureWarning: Pass the following variable as a keyword arg: x. From version 0.12, the only valid positional argument will be `data`, and passing other arguments without an explicit keyword will result in an error or misinterpretation.\n",
            "  warnings.warn(\n"
          ]
        },
        {
          "data": {
            "text/plain": [
              "<AxesSubplot:xlabel='Product_Category_1', ylabel='count'>"
            ]
          },
          "execution_count": 65,
          "metadata": {},
          "output_type": "execute_result"
        },
        {
          "data": {
            "image/png": "[encoded data removed]",
            "text/plain": [
              "<Figure size 720x360 with 1 Axes>"
            ]
          },
          "metadata": {
            "needs_background": "light"
          },
          "output_type": "display_data"
        }
      ],
      "source": [
        "plt.figure(figsize=(10,5))\n",
        "sns.countplot(data['Product_Category_1'])"
      ]
    },
    {
      "cell_type": "code",
      "execution_count": null,
      "id": "12056861",
      "metadata": {
        "id": "12056861"
      },
      "outputs": [],
      "source": [
        "#from the product category_1 most people puchases only one item"
      ]
    },
    {
      "cell_type": "code",
      "execution_count": null,
      "id": "63acc280",
      "metadata": {
        "id": "63acc280"
      },
      "outputs": [],
      "source": [
        "Homework- create different plots and infer the information from it"
      ]
    },
    {
      "cell_type": "markdown",
      "id": "cff59bfe",
      "metadata": {
        "id": "cff59bfe"
      },
      "source": [
        "# Statistic analysis"
      ]
    },
    {
      "cell_type": "code",
      "execution_count": null,
      "id": "3e1ccde9",
      "metadata": {
        "id": "3e1ccde9"
      },
      "outputs": [],
      "source": [
        "# Hypothesis testing\n",
        "# Example-\n",
        "# assumption - 60% of men are data scientist\n",
        "\n",
        "# steps to perform Hypothesis Testing\n",
        "#     generate two hypothesis:\n",
        "#         Null Hypothesis: 60% of men are data scientist\n",
        "#         Alternate Hypothesis: 60% of men are not data scientist\n",
        "#     Collect the data and create the samples\n",
        "#     select suitable test\n",
        "#     p-value- (Evidence)\n",
        "#     Reject on Accept the p value based on significance level(0.05)\n"
      ]
    },
    {
      "cell_type": "code",
      "execution_count": null,
      "id": "0c1ca9c8",
      "metadata": {
        "id": "0c1ca9c8"
      },
      "outputs": [],
      "source": [
        "1 sample test: in my assumption if the one sample is being compared by a standard value\n",
        "    Ex:Avg salary of men in India is 60K(standard value)\n",
        "2 sample test: in my assumption if one sample is being compared by another sample\n",
        "    Ex avg salary of men in India is same as avg salary of women"
      ]
    },
    {
      "cell_type": "markdown",
      "id": "4fc410ee",
      "metadata": {
        "id": "4fc410ee"
      },
      "source": [
        "# It was observed that the average purchase made by the Men of the age 18-25 was 10000. Is it still the same?"
      ]
    },
    {
      "cell_type": "code",
      "execution_count": null,
      "id": "0baa42b9",
      "metadata": {
        "id": "0baa42b9"
      },
      "outputs": [],
      "source": [
        "two choices : t test / z test"
      ]
    },
    {
      "cell_type": "code",
      "execution_count": null,
      "id": "996770d9",
      "metadata": {
        "id": "996770d9"
      },
      "outputs": [],
      "source": [
        "# t test for the one sample"
      ]
    },
    {
      "cell_type": "code",
      "execution_count": null,
      "id": "e655900f",
      "metadata": {
        "id": "e655900f"
      },
      "outputs": [],
      "source": [
        "#null hypothesis - The mean is 10000\n",
        "#alternate hypothesis - The mean is not 10000"
      ]
    },
    {
      "cell_type": "code",
      "execution_count": null,
      "id": "6ad33c03",
      "metadata": {
        "id": "6ad33c03"
      },
      "outputs": [],
      "source": [
        "new_data = data[(data['Age'] == 1) & data['Gender'] == 1]"
      ]
    },
    {
      "cell_type": "code",
      "execution_count": null,
      "id": "c7394aa3",
      "metadata": {
        "id": "c7394aa3",
        "outputId": "48b35a23-b377-4261-de4f-8b2f3ea22221"
      },
      "outputs": [
        {
          "data": {
            "text/html": [
              "<div>\n",
              "<style scoped>\n",
              "    .dataframe tbody tr th:only-of-type {\n",
              "        vertical-align: middle;\n",
              "    }\n",
              "\n",
              "    .dataframe tbody tr th {\n",
              "        vertical-align: top;\n",
              "    }\n",
              "\n",
              "    .dataframe thead th {\n",
              "        text-align: right;\n",
              "    }\n",
              "</style>\n",
              "<table border=\"1\" class=\"dataframe\">\n",
              "  <thead>\n",
              "    <tr style=\"text-align: right;\">\n",
              "      <th></th>\n",
              "      <th>User_ID</th>\n",
              "      <th>Product_ID</th>\n",
              "      <th>Gender</th>\n",
              "      <th>Age</th>\n",
              "      <th>Occupation</th>\n",
              "      <th>City_Category</th>\n",
              "      <th>Stay_In_Current_City_Years</th>\n",
              "      <th>Marital_Status</th>\n",
              "      <th>Product_Category_1</th>\n",
              "      <th>Product_Category_2</th>\n",
              "      <th>Product_Category_3</th>\n",
              "      <th>Purchase</th>\n",
              "    </tr>\n",
              "  </thead>\n",
              "  <tbody>\n",
              "    <tr>\n",
              "      <th>98</th>\n",
              "      <td>1000022</td>\n",
              "      <td>487</td>\n",
              "      <td>1</td>\n",
              "      <td>1</td>\n",
              "      <td>15.0</td>\n",
              "      <td>0</td>\n",
              "      <td>4</td>\n",
              "      <td>0.0</td>\n",
              "      <td>1.0</td>\n",
              "      <td>8.0</td>\n",
              "      <td>17.0</td>\n",
              "      <td>12099.0</td>\n",
              "    </tr>\n",
              "    <tr>\n",
              "      <th>103</th>\n",
              "      <td>1000022</td>\n",
              "      <td>402</td>\n",
              "      <td>1</td>\n",
              "      <td>1</td>\n",
              "      <td>15.0</td>\n",
              "      <td>0</td>\n",
              "      <td>4</td>\n",
              "      <td>0.0</td>\n",
              "      <td>1.0</td>\n",
              "      <td>11.0</td>\n",
              "      <td>16.0</td>\n",
              "      <td>12098.0</td>\n",
              "    </tr>\n",
              "    <tr>\n",
              "      <th>111</th>\n",
              "      <td>1000022</td>\n",
              "      <td>358</td>\n",
              "      <td>1</td>\n",
              "      <td>1</td>\n",
              "      <td>15.0</td>\n",
              "      <td>0</td>\n",
              "      <td>4</td>\n",
              "      <td>0.0</td>\n",
              "      <td>2.0</td>\n",
              "      <td>4.0</td>\n",
              "      <td>15.0</td>\n",
              "      <td>9564.0</td>\n",
              "    </tr>\n",
              "    <tr>\n",
              "      <th>127</th>\n",
              "      <td>1000025</td>\n",
              "      <td>332</td>\n",
              "      <td>1</td>\n",
              "      <td>1</td>\n",
              "      <td>4.0</td>\n",
              "      <td>2</td>\n",
              "      <td>4</td>\n",
              "      <td>0.0</td>\n",
              "      <td>1.0</td>\n",
              "      <td>5.0</td>\n",
              "      <td>9.0</td>\n",
              "      <td>15361.0</td>\n",
              "    </tr>\n",
              "    <tr>\n",
              "      <th>128</th>\n",
              "      <td>1000025</td>\n",
              "      <td>71</td>\n",
              "      <td>1</td>\n",
              "      <td>1</td>\n",
              "      <td>4.0</td>\n",
              "      <td>2</td>\n",
              "      <td>4</td>\n",
              "      <td>0.0</td>\n",
              "      <td>1.0</td>\n",
              "      <td>2.0</td>\n",
              "      <td>15.0</td>\n",
              "      <td>15770.0</td>\n",
              "    </tr>\n",
              "    <tr>\n",
              "      <th>...</th>\n",
              "      <td>...</td>\n",
              "      <td>...</td>\n",
              "      <td>...</td>\n",
              "      <td>...</td>\n",
              "      <td>...</td>\n",
              "      <td>...</td>\n",
              "      <td>...</td>\n",
              "      <td>...</td>\n",
              "      <td>...</td>\n",
              "      <td>...</td>\n",
              "      <td>...</td>\n",
              "      <td>...</td>\n",
              "    </tr>\n",
              "    <tr>\n",
              "      <th>262758</th>\n",
              "      <td>1004446</td>\n",
              "      <td>180</td>\n",
              "      <td>1</td>\n",
              "      <td>1</td>\n",
              "      <td>18.0</td>\n",
              "      <td>1</td>\n",
              "      <td>1</td>\n",
              "      <td>1.0</td>\n",
              "      <td>1.0</td>\n",
              "      <td>2.0</td>\n",
              "      <td>15.0</td>\n",
              "      <td>11512.0</td>\n",
              "    </tr>\n",
              "    <tr>\n",
              "      <th>262759</th>\n",
              "      <td>1004446</td>\n",
              "      <td>394</td>\n",
              "      <td>1</td>\n",
              "      <td>1</td>\n",
              "      <td>18.0</td>\n",
              "      <td>1</td>\n",
              "      <td>1</td>\n",
              "      <td>1.0</td>\n",
              "      <td>1.0</td>\n",
              "      <td>15.0</td>\n",
              "      <td>18.0</td>\n",
              "      <td>11521.0</td>\n",
              "    </tr>\n",
              "    <tr>\n",
              "      <th>262760</th>\n",
              "      <td>1004446</td>\n",
              "      <td>23</td>\n",
              "      <td>1</td>\n",
              "      <td>1</td>\n",
              "      <td>18.0</td>\n",
              "      <td>1</td>\n",
              "      <td>1</td>\n",
              "      <td>1.0</td>\n",
              "      <td>1.0</td>\n",
              "      <td>2.0</td>\n",
              "      <td>13.0</td>\n",
              "      <td>3988.0</td>\n",
              "    </tr>\n",
              "    <tr>\n",
              "      <th>262764</th>\n",
              "      <td>1004446</td>\n",
              "      <td>75</td>\n",
              "      <td>1</td>\n",
              "      <td>1</td>\n",
              "      <td>18.0</td>\n",
              "      <td>1</td>\n",
              "      <td>1</td>\n",
              "      <td>1.0</td>\n",
              "      <td>5.0</td>\n",
              "      <td>8.0</td>\n",
              "      <td>17.0</td>\n",
              "      <td>5444.0</td>\n",
              "    </tr>\n",
              "    <tr>\n",
              "      <th>262952</th>\n",
              "      <td>1004465</td>\n",
              "      <td>209</td>\n",
              "      <td>1</td>\n",
              "      <td>1</td>\n",
              "      <td>4.0</td>\n",
              "      <td>0</td>\n",
              "      <td>1</td>\n",
              "      <td>1.0</td>\n",
              "      <td>2.0</td>\n",
              "      <td>3.0</td>\n",
              "      <td>4.0</td>\n",
              "      <td>3240.0</td>\n",
              "    </tr>\n",
              "  </tbody>\n",
              "</table>\n",
              "<p>11904 rows × 12 columns</p>\n",
              "</div>"
            ],
            "text/plain": [
              "        User_ID  Product_ID  Gender  Age  Occupation  City_Category  \\\n",
              "98      1000022         487       1    1        15.0              0   \n",
              "103     1000022         402       1    1        15.0              0   \n",
              "111     1000022         358       1    1        15.0              0   \n",
              "127     1000025         332       1    1         4.0              2   \n",
              "128     1000025          71       1    1         4.0              2   \n",
              "...         ...         ...     ...  ...         ...            ...   \n",
              "262758  1004446         180       1    1        18.0              1   \n",
              "262759  1004446         394       1    1        18.0              1   \n",
              "262760  1004446          23       1    1        18.0              1   \n",
              "262764  1004446          75       1    1        18.0              1   \n",
              "262952  1004465         209       1    1         4.0              0   \n",
              "\n",
              "        Stay_In_Current_City_Years  Marital_Status  Product_Category_1  \\\n",
              "98                               4             0.0                 1.0   \n",
              "103                              4             0.0                 1.0   \n",
              "111                              4             0.0                 2.0   \n",
              "127                              4             0.0                 1.0   \n",
              "128                              4             0.0                 1.0   \n",
              "...                            ...             ...                 ...   \n",
              "262758                           1             1.0                 1.0   \n",
              "262759                           1             1.0                 1.0   \n",
              "262760                           1             1.0                 1.0   \n",
              "262764                           1             1.0                 5.0   \n",
              "262952                           1             1.0                 2.0   \n",
              "\n",
              "        Product_Category_2  Product_Category_3  Purchase  \n",
              "98                     8.0                17.0   12099.0  \n",
              "103                   11.0                16.0   12098.0  \n",
              "111                    4.0                15.0    9564.0  \n",
              "127                    5.0                 9.0   15361.0  \n",
              "128                    2.0                15.0   15770.0  \n",
              "...                    ...                 ...       ...  \n",
              "262758                 2.0                15.0   11512.0  \n",
              "262759                15.0                18.0   11521.0  \n",
              "262760                 2.0                13.0    3988.0  \n",
              "262764                 8.0                17.0    5444.0  \n",
              "262952                 3.0                 4.0    3240.0  \n",
              "\n",
              "[11904 rows x 12 columns]"
            ]
          },
          "execution_count": 68,
          "metadata": {},
          "output_type": "execute_result"
        }
      ],
      "source": [
        "new_data"
      ]
    },
    {
      "cell_type": "code",
      "execution_count": null,
      "id": "16d7da7b",
      "metadata": {
        "id": "16d7da7b"
      },
      "outputs": [],
      "source": [
        "sample_size = 1000\n",
        "sample = new_data.sample(sample_size, random_state=0)"
      ]
    },
    {
      "cell_type": "code",
      "execution_count": null,
      "id": "962b9ede",
      "metadata": {
        "id": "962b9ede",
        "outputId": "ef9d2b01-8c30-45d0-a309-80f70cec67ee"
      },
      "outputs": [
        {
          "data": {
            "text/html": [
              "<div>\n",
              "<style scoped>\n",
              "    .dataframe tbody tr th:only-of-type {\n",
              "        vertical-align: middle;\n",
              "    }\n",
              "\n",
              "    .dataframe tbody tr th {\n",
              "        vertical-align: top;\n",
              "    }\n",
              "\n",
              "    .dataframe thead th {\n",
              "        text-align: right;\n",
              "    }\n",
              "</style>\n",
              "<table border=\"1\" class=\"dataframe\">\n",
              "  <thead>\n",
              "    <tr style=\"text-align: right;\">\n",
              "      <th></th>\n",
              "      <th>User_ID</th>\n",
              "      <th>Product_ID</th>\n",
              "      <th>Gender</th>\n",
              "      <th>Age</th>\n",
              "      <th>Occupation</th>\n",
              "      <th>City_Category</th>\n",
              "      <th>Stay_In_Current_City_Years</th>\n",
              "      <th>Marital_Status</th>\n",
              "      <th>Product_Category_1</th>\n",
              "      <th>Product_Category_2</th>\n",
              "      <th>Product_Category_3</th>\n",
              "      <th>Purchase</th>\n",
              "    </tr>\n",
              "  </thead>\n",
              "  <tbody>\n",
              "    <tr>\n",
              "      <th>124490</th>\n",
              "      <td>1001221</td>\n",
              "      <td>184</td>\n",
              "      <td>1</td>\n",
              "      <td>1</td>\n",
              "      <td>0.0</td>\n",
              "      <td>1</td>\n",
              "      <td>1</td>\n",
              "      <td>0.0</td>\n",
              "      <td>1.0</td>\n",
              "      <td>2.0</td>\n",
              "      <td>5.0</td>\n",
              "      <td>7943.0</td>\n",
              "    </tr>\n",
              "    <tr>\n",
              "      <th>66720</th>\n",
              "      <td>1004217</td>\n",
              "      <td>6</td>\n",
              "      <td>1</td>\n",
              "      <td>1</td>\n",
              "      <td>4.0</td>\n",
              "      <td>1</td>\n",
              "      <td>2</td>\n",
              "      <td>0.0</td>\n",
              "      <td>1.0</td>\n",
              "      <td>5.0</td>\n",
              "      <td>8.0</td>\n",
              "      <td>15811.0</td>\n",
              "    </tr>\n",
              "    <tr>\n",
              "      <th>194073</th>\n",
              "      <td>1005964</td>\n",
              "      <td>418</td>\n",
              "      <td>1</td>\n",
              "      <td>1</td>\n",
              "      <td>5.0</td>\n",
              "      <td>1</td>\n",
              "      <td>1</td>\n",
              "      <td>0.0</td>\n",
              "      <td>2.0</td>\n",
              "      <td>3.0</td>\n",
              "      <td>10.0</td>\n",
              "      <td>12882.0</td>\n",
              "    </tr>\n",
              "    <tr>\n",
              "      <th>157342</th>\n",
              "      <td>1000302</td>\n",
              "      <td>262</td>\n",
              "      <td>1</td>\n",
              "      <td>1</td>\n",
              "      <td>4.0</td>\n",
              "      <td>1</td>\n",
              "      <td>4</td>\n",
              "      <td>0.0</td>\n",
              "      <td>13.0</td>\n",
              "      <td>15.0</td>\n",
              "      <td>16.0</td>\n",
              "      <td>570.0</td>\n",
              "    </tr>\n",
              "    <tr>\n",
              "      <th>199012</th>\n",
              "      <td>1000742</td>\n",
              "      <td>411</td>\n",
              "      <td>1</td>\n",
              "      <td>1</td>\n",
              "      <td>0.0</td>\n",
              "      <td>2</td>\n",
              "      <td>1</td>\n",
              "      <td>0.0</td>\n",
              "      <td>1.0</td>\n",
              "      <td>2.0</td>\n",
              "      <td>15.0</td>\n",
              "      <td>11519.0</td>\n",
              "    </tr>\n",
              "    <tr>\n",
              "      <th>...</th>\n",
              "      <td>...</td>\n",
              "      <td>...</td>\n",
              "      <td>...</td>\n",
              "      <td>...</td>\n",
              "      <td>...</td>\n",
              "      <td>...</td>\n",
              "      <td>...</td>\n",
              "      <td>...</td>\n",
              "      <td>...</td>\n",
              "      <td>...</td>\n",
              "      <td>...</td>\n",
              "      <td>...</td>\n",
              "    </tr>\n",
              "    <tr>\n",
              "      <th>104629</th>\n",
              "      <td>1004101</td>\n",
              "      <td>186</td>\n",
              "      <td>1</td>\n",
              "      <td>1</td>\n",
              "      <td>4.0</td>\n",
              "      <td>2</td>\n",
              "      <td>3</td>\n",
              "      <td>0.0</td>\n",
              "      <td>1.0</td>\n",
              "      <td>5.0</td>\n",
              "      <td>18.0</td>\n",
              "      <td>12001.0</td>\n",
              "    </tr>\n",
              "    <tr>\n",
              "      <th>66214</th>\n",
              "      <td>1004117</td>\n",
              "      <td>355</td>\n",
              "      <td>1</td>\n",
              "      <td>1</td>\n",
              "      <td>4.0</td>\n",
              "      <td>1</td>\n",
              "      <td>4</td>\n",
              "      <td>0.0</td>\n",
              "      <td>1.0</td>\n",
              "      <td>8.0</td>\n",
              "      <td>17.0</td>\n",
              "      <td>11416.0</td>\n",
              "    </tr>\n",
              "    <tr>\n",
              "      <th>165259</th>\n",
              "      <td>1001524</td>\n",
              "      <td>455</td>\n",
              "      <td>1</td>\n",
              "      <td>1</td>\n",
              "      <td>4.0</td>\n",
              "      <td>1</td>\n",
              "      <td>1</td>\n",
              "      <td>0.0</td>\n",
              "      <td>2.0</td>\n",
              "      <td>8.0</td>\n",
              "      <td>16.0</td>\n",
              "      <td>16448.0</td>\n",
              "    </tr>\n",
              "    <tr>\n",
              "      <th>80254</th>\n",
              "      <td>1000352</td>\n",
              "      <td>181</td>\n",
              "      <td>1</td>\n",
              "      <td>1</td>\n",
              "      <td>4.0</td>\n",
              "      <td>0</td>\n",
              "      <td>0</td>\n",
              "      <td>0.0</td>\n",
              "      <td>1.0</td>\n",
              "      <td>2.0</td>\n",
              "      <td>15.0</td>\n",
              "      <td>11572.0</td>\n",
              "    </tr>\n",
              "    <tr>\n",
              "      <th>259306</th>\n",
              "      <td>1003942</td>\n",
              "      <td>271</td>\n",
              "      <td>1</td>\n",
              "      <td>1</td>\n",
              "      <td>4.0</td>\n",
              "      <td>1</td>\n",
              "      <td>4</td>\n",
              "      <td>0.0</td>\n",
              "      <td>1.0</td>\n",
              "      <td>6.0</td>\n",
              "      <td>8.0</td>\n",
              "      <td>11428.0</td>\n",
              "    </tr>\n",
              "  </tbody>\n",
              "</table>\n",
              "<p>1000 rows × 12 columns</p>\n",
              "</div>"
            ],
            "text/plain": [
              "        User_ID  Product_ID  Gender  Age  Occupation  City_Category  \\\n",
              "124490  1001221         184       1    1         0.0              1   \n",
              "66720   1004217           6       1    1         4.0              1   \n",
              "194073  1005964         418       1    1         5.0              1   \n",
              "157342  1000302         262       1    1         4.0              1   \n",
              "199012  1000742         411       1    1         0.0              2   \n",
              "...         ...         ...     ...  ...         ...            ...   \n",
              "104629  1004101         186       1    1         4.0              2   \n",
              "66214   1004117         355       1    1         4.0              1   \n",
              "165259  1001524         455       1    1         4.0              1   \n",
              "80254   1000352         181       1    1         4.0              0   \n",
              "259306  1003942         271       1    1         4.0              1   \n",
              "\n",
              "        Stay_In_Current_City_Years  Marital_Status  Product_Category_1  \\\n",
              "124490                           1             0.0                 1.0   \n",
              "66720                            2             0.0                 1.0   \n",
              "194073                           1             0.0                 2.0   \n",
              "157342                           4             0.0                13.0   \n",
              "199012                           1             0.0                 1.0   \n",
              "...                            ...             ...                 ...   \n",
              "104629                           3             0.0                 1.0   \n",
              "66214                            4             0.0                 1.0   \n",
              "165259                           1             0.0                 2.0   \n",
              "80254                            0             0.0                 1.0   \n",
              "259306                           4             0.0                 1.0   \n",
              "\n",
              "        Product_Category_2  Product_Category_3  Purchase  \n",
              "124490                 2.0                 5.0    7943.0  \n",
              "66720                  5.0                 8.0   15811.0  \n",
              "194073                 3.0                10.0   12882.0  \n",
              "157342                15.0                16.0     570.0  \n",
              "199012                 2.0                15.0   11519.0  \n",
              "...                    ...                 ...       ...  \n",
              "104629                 5.0                18.0   12001.0  \n",
              "66214                  8.0                17.0   11416.0  \n",
              "165259                 8.0                16.0   16448.0  \n",
              "80254                  2.0                15.0   11572.0  \n",
              "259306                 6.0                 8.0   11428.0  \n",
              "\n",
              "[1000 rows x 12 columns]"
            ]
          },
          "execution_count": 76,
          "metadata": {},
          "output_type": "execute_result"
        }
      ],
      "source": [
        "sample"
      ]
    },
    {
      "cell_type": "code",
      "execution_count": null,
      "id": "ca3cbaf3",
      "metadata": {
        "id": "ca3cbaf3",
        "outputId": "d717bd8f-d366-4029-c07a-d8c2a1c30986"
      },
      "outputs": [
        {
          "data": {
            "text/plain": [
              "11785.18817204301"
            ]
          },
          "execution_count": 72,
          "metadata": {},
          "output_type": "execute_result"
        }
      ],
      "source": [
        "new_data[\"Purchase\"].mean()"
      ]
    },
    {
      "cell_type": "code",
      "execution_count": null,
      "id": "6e351ff0",
      "metadata": {
        "id": "6e351ff0"
      },
      "outputs": [],
      "source": [
        "a_mean = 10000"
      ]
    },
    {
      "cell_type": "code",
      "execution_count": null,
      "id": "4bfe9c7c",
      "metadata": {
        "id": "4bfe9c7c"
      },
      "outputs": [],
      "source": [
        "#one sample t-test\n",
        "from scipy.stats import ttest_1samp"
      ]
    },
    {
      "cell_type": "code",
      "execution_count": null,
      "id": "84599082",
      "metadata": {
        "id": "84599082",
        "outputId": "62d702c9-4641-40e8-be80-54fe462bf456"
      },
      "outputs": [
        {
          "name": "stdout",
          "output_type": "stream",
          "text": [
            "10.912366335912562 2.8550147774368676e-26\n"
          ]
        }
      ],
      "source": [
        "t_stat, p_value = ttest_1samp(sample['Purchase'], a_mean)\n",
        "print(t_stat, p_value)"
      ]
    },
    {
      "cell_type": "code",
      "execution_count": null,
      "id": "1270d7f8",
      "metadata": {
        "id": "1270d7f8"
      },
      "outputs": [],
      "source": [
        "#P-value is less than 0.05, reject the null hypothesis.\n",
        "#therefore, the mean purchase for men aged 18-25 is not 10000."
      ]
    },
    {
      "cell_type": "markdown",
      "id": "ada21dc6",
      "metadata": {
        "id": "ada21dc6"
      },
      "source": [
        "# . It was observed that the percentage of women of that spend more than 10000 was 35%. Is it still the same?"
      ]
    },
    {
      "cell_type": "code",
      "execution_count": null,
      "id": "51a58171",
      "metadata": {
        "id": "51a58171"
      },
      "outputs": [],
      "source": [
        "# z_ proportion test for one sample\n",
        "# parameters: count, nobs, value"
      ]
    },
    {
      "cell_type": "code",
      "execution_count": null,
      "id": "4507e542",
      "metadata": {
        "id": "4507e542"
      },
      "outputs": [],
      "source": [
        "#null hypothesis - proportion is 35%.\n",
        "#alternate hypothesis - proportion is not 35%.\n",
        "\n",
        "data_new = data[(data['Purchase'] > 10000)]"
      ]
    },
    {
      "cell_type": "code",
      "execution_count": null,
      "id": "33303d43",
      "metadata": {
        "id": "33303d43",
        "outputId": "859b0a51-825c-4ce7-db1a-326620657543"
      },
      "outputs": [
        {
          "data": {
            "text/html": [
              "<div>\n",
              "<style scoped>\n",
              "    .dataframe tbody tr th:only-of-type {\n",
              "        vertical-align: middle;\n",
              "    }\n",
              "\n",
              "    .dataframe tbody tr th {\n",
              "        vertical-align: top;\n",
              "    }\n",
              "\n",
              "    .dataframe thead th {\n",
              "        text-align: right;\n",
              "    }\n",
              "</style>\n",
              "<table border=\"1\" class=\"dataframe\">\n",
              "  <thead>\n",
              "    <tr style=\"text-align: right;\">\n",
              "      <th></th>\n",
              "      <th>User_ID</th>\n",
              "      <th>Product_ID</th>\n",
              "      <th>Gender</th>\n",
              "      <th>Age</th>\n",
              "      <th>Occupation</th>\n",
              "      <th>City_Category</th>\n",
              "      <th>Stay_In_Current_City_Years</th>\n",
              "      <th>Marital_Status</th>\n",
              "      <th>Product_Category_1</th>\n",
              "      <th>Product_Category_2</th>\n",
              "      <th>Product_Category_3</th>\n",
              "      <th>Purchase</th>\n",
              "    </tr>\n",
              "  </thead>\n",
              "  <tbody>\n",
              "    <tr>\n",
              "      <th>1</th>\n",
              "      <td>1000001</td>\n",
              "      <td>391</td>\n",
              "      <td>0</td>\n",
              "      <td>0</td>\n",
              "      <td>10.0</td>\n",
              "      <td>0</td>\n",
              "      <td>2</td>\n",
              "      <td>0.0</td>\n",
              "      <td>1.0</td>\n",
              "      <td>6.0</td>\n",
              "      <td>14.0</td>\n",
              "      <td>15200.0</td>\n",
              "    </tr>\n",
              "    <tr>\n",
              "      <th>6</th>\n",
              "      <td>1000004</td>\n",
              "      <td>284</td>\n",
              "      <td>1</td>\n",
              "      <td>4</td>\n",
              "      <td>7.0</td>\n",
              "      <td>1</td>\n",
              "      <td>2</td>\n",
              "      <td>1.0</td>\n",
              "      <td>1.0</td>\n",
              "      <td>8.0</td>\n",
              "      <td>17.0</td>\n",
              "      <td>19215.0</td>\n",
              "    </tr>\n",
              "    <tr>\n",
              "      <th>13</th>\n",
              "      <td>1000005</td>\n",
              "      <td>211</td>\n",
              "      <td>1</td>\n",
              "      <td>2</td>\n",
              "      <td>20.0</td>\n",
              "      <td>0</td>\n",
              "      <td>1</td>\n",
              "      <td>1.0</td>\n",
              "      <td>1.0</td>\n",
              "      <td>2.0</td>\n",
              "      <td>5.0</td>\n",
              "      <td>15665.0</td>\n",
              "    </tr>\n",
              "    <tr>\n",
              "      <th>16</th>\n",
              "      <td>1000006</td>\n",
              "      <td>517</td>\n",
              "      <td>0</td>\n",
              "      <td>5</td>\n",
              "      <td>9.0</td>\n",
              "      <td>0</td>\n",
              "      <td>1</td>\n",
              "      <td>0.0</td>\n",
              "      <td>2.0</td>\n",
              "      <td>3.0</td>\n",
              "      <td>4.0</td>\n",
              "      <td>13055.0</td>\n",
              "    </tr>\n",
              "    <tr>\n",
              "      <th>18</th>\n",
              "      <td>1000007</td>\n",
              "      <td>58</td>\n",
              "      <td>1</td>\n",
              "      <td>3</td>\n",
              "      <td>1.0</td>\n",
              "      <td>1</td>\n",
              "      <td>1</td>\n",
              "      <td>1.0</td>\n",
              "      <td>1.0</td>\n",
              "      <td>14.0</td>\n",
              "      <td>16.0</td>\n",
              "      <td>11788.0</td>\n",
              "    </tr>\n",
              "    <tr>\n",
              "      <th>...</th>\n",
              "      <td>...</td>\n",
              "      <td>...</td>\n",
              "      <td>...</td>\n",
              "      <td>...</td>\n",
              "      <td>...</td>\n",
              "      <td>...</td>\n",
              "      <td>...</td>\n",
              "      <td>...</td>\n",
              "      <td>...</td>\n",
              "      <td>...</td>\n",
              "      <td>...</td>\n",
              "      <td>...</td>\n",
              "    </tr>\n",
              "    <tr>\n",
              "      <th>262995</th>\n",
              "      <td>1004472</td>\n",
              "      <td>175</td>\n",
              "      <td>0</td>\n",
              "      <td>4</td>\n",
              "      <td>16.0</td>\n",
              "      <td>1</td>\n",
              "      <td>0</td>\n",
              "      <td>1.0</td>\n",
              "      <td>1.0</td>\n",
              "      <td>11.0</td>\n",
              "      <td>15.0</td>\n",
              "      <td>11661.0</td>\n",
              "    </tr>\n",
              "    <tr>\n",
              "      <th>262997</th>\n",
              "      <td>1004472</td>\n",
              "      <td>402</td>\n",
              "      <td>0</td>\n",
              "      <td>4</td>\n",
              "      <td>16.0</td>\n",
              "      <td>1</td>\n",
              "      <td>0</td>\n",
              "      <td>1.0</td>\n",
              "      <td>1.0</td>\n",
              "      <td>11.0</td>\n",
              "      <td>16.0</td>\n",
              "      <td>15175.0</td>\n",
              "    </tr>\n",
              "    <tr>\n",
              "      <th>263001</th>\n",
              "      <td>1004472</td>\n",
              "      <td>337</td>\n",
              "      <td>0</td>\n",
              "      <td>4</td>\n",
              "      <td>16.0</td>\n",
              "      <td>1</td>\n",
              "      <td>0</td>\n",
              "      <td>1.0</td>\n",
              "      <td>1.0</td>\n",
              "      <td>11.0</td>\n",
              "      <td>15.0</td>\n",
              "      <td>15430.0</td>\n",
              "    </tr>\n",
              "    <tr>\n",
              "      <th>263003</th>\n",
              "      <td>1004472</td>\n",
              "      <td>480</td>\n",
              "      <td>0</td>\n",
              "      <td>4</td>\n",
              "      <td>16.0</td>\n",
              "      <td>1</td>\n",
              "      <td>0</td>\n",
              "      <td>1.0</td>\n",
              "      <td>1.0</td>\n",
              "      <td>2.0</td>\n",
              "      <td>15.0</td>\n",
              "      <td>15387.0</td>\n",
              "    </tr>\n",
              "    <tr>\n",
              "      <th>263011</th>\n",
              "      <td>1004473</td>\n",
              "      <td>159</td>\n",
              "      <td>1</td>\n",
              "      <td>3</td>\n",
              "      <td>1.0</td>\n",
              "      <td>1</td>\n",
              "      <td>3</td>\n",
              "      <td>0.0</td>\n",
              "      <td>1.0</td>\n",
              "      <td>8.0</td>\n",
              "      <td>17.0</td>\n",
              "      <td>19253.0</td>\n",
              "    </tr>\n",
              "  </tbody>\n",
              "</table>\n",
              "<p>49390 rows × 12 columns</p>\n",
              "</div>"
            ],
            "text/plain": [
              "        User_ID  Product_ID  Gender  Age  Occupation  City_Category  \\\n",
              "1       1000001         391       0    0        10.0              0   \n",
              "6       1000004         284       1    4         7.0              1   \n",
              "13      1000005         211       1    2        20.0              0   \n",
              "16      1000006         517       0    5         9.0              0   \n",
              "18      1000007          58       1    3         1.0              1   \n",
              "...         ...         ...     ...  ...         ...            ...   \n",
              "262995  1004472         175       0    4        16.0              1   \n",
              "262997  1004472         402       0    4        16.0              1   \n",
              "263001  1004472         337       0    4        16.0              1   \n",
              "263003  1004472         480       0    4        16.0              1   \n",
              "263011  1004473         159       1    3         1.0              1   \n",
              "\n",
              "        Stay_In_Current_City_Years  Marital_Status  Product_Category_1  \\\n",
              "1                                2             0.0                 1.0   \n",
              "6                                2             1.0                 1.0   \n",
              "13                               1             1.0                 1.0   \n",
              "16                               1             0.0                 2.0   \n",
              "18                               1             1.0                 1.0   \n",
              "...                            ...             ...                 ...   \n",
              "262995                           0             1.0                 1.0   \n",
              "262997                           0             1.0                 1.0   \n",
              "263001                           0             1.0                 1.0   \n",
              "263003                           0             1.0                 1.0   \n",
              "263011                           3             0.0                 1.0   \n",
              "\n",
              "        Product_Category_2  Product_Category_3  Purchase  \n",
              "1                      6.0                14.0   15200.0  \n",
              "6                      8.0                17.0   19215.0  \n",
              "13                     2.0                 5.0   15665.0  \n",
              "16                     3.0                 4.0   13055.0  \n",
              "18                    14.0                16.0   11788.0  \n",
              "...                    ...                 ...       ...  \n",
              "262995                11.0                15.0   11661.0  \n",
              "262997                11.0                16.0   15175.0  \n",
              "263001                11.0                15.0   15430.0  \n",
              "263003                 2.0                15.0   15387.0  \n",
              "263011                 8.0                17.0   19253.0  \n",
              "\n",
              "[49390 rows x 12 columns]"
            ]
          },
          "execution_count": 81,
          "metadata": {},
          "output_type": "execute_result"
        }
      ],
      "source": [
        "data_new"
      ]
    },
    {
      "cell_type": "code",
      "execution_count": null,
      "id": "8ec1688a",
      "metadata": {
        "id": "8ec1688a"
      },
      "outputs": [],
      "source": [
        "#No of women in the sample\n",
        "count = data_new['Gender'].value_counts()[0]\n",
        "\n",
        "#number of observations\n",
        "nobs = len(data_new['Gender'])\n",
        "\n",
        "#hypothesised value\n",
        "percent = 0.35"
      ]
    },
    {
      "cell_type": "code",
      "execution_count": null,
      "id": "05bd430e",
      "metadata": {
        "id": "05bd430e",
        "outputId": "b161c4dd-7dd7-458f-a4ed-292d7ba4d4bd"
      },
      "outputs": [
        {
          "data": {
            "text/plain": [
              "1    39215\n",
              "0    10175\n",
              "Name: Gender, dtype: int64"
            ]
          },
          "execution_count": 91,
          "metadata": {},
          "output_type": "execute_result"
        }
      ],
      "source": [
        "data_new['Gender'].value_counts()"
      ]
    },
    {
      "cell_type": "code",
      "execution_count": null,
      "id": "94eac673",
      "metadata": {
        "id": "94eac673",
        "outputId": "d548b1d9-3dd4-4b8d-c6fc-a380cd331fc9"
      },
      "outputs": [
        {
          "data": {
            "text/plain": [
              "(10175, 49390, 0.35)"
            ]
          },
          "execution_count": 93,
          "metadata": {},
          "output_type": "execute_result"
        }
      ],
      "source": [
        "count,nobs,percent"
      ]
    },
    {
      "cell_type": "code",
      "execution_count": null,
      "id": "f7df644e",
      "metadata": {
        "id": "f7df644e"
      },
      "outputs": [],
      "source": [
        "#one sample z test\n",
        "from statsmodels.stats.proportion import proportions_ztest"
      ]
    },
    {
      "cell_type": "code",
      "execution_count": null,
      "id": "04758023",
      "metadata": {
        "id": "04758023",
        "outputId": "4bb8a426-cd57-44f3-b63a-6e4b9a28f177"
      },
      "outputs": [
        {
          "name": "stdout",
          "output_type": "stream",
          "text": [
            "-79.12020590883206 0.0\n"
          ]
        }
      ],
      "source": [
        "z_stat, p_val = proportions_ztest(count=count,\n",
        "                                  nobs=nobs,\n",
        "                                  value=percent)\n",
        "print(z_stat, p_val)"
      ]
    },
    {
      "cell_type": "code",
      "execution_count": null,
      "id": "639e255d",
      "metadata": {
        "id": "639e255d",
        "outputId": "5dcf8d49-b806-41a9-9c9d-30338b99303d"
      },
      "outputs": [
        {
          "data": {
            "text/plain": [
              "20.601336302895323"
            ]
          },
          "execution_count": 96,
          "metadata": {},
          "output_type": "execute_result"
        }
      ],
      "source": [
        "# verifying\n",
        "# (10175/49390)*100"
      ]
    },
    {
      "cell_type": "code",
      "execution_count": null,
      "id": "0cb03074",
      "metadata": {
        "id": "0cb03074"
      },
      "outputs": [],
      "source": [
        "#p-value is less than 0.05, reject the null hypothesis.\n",
        "#the proportion of women spending more than 10000, is not 35%."
      ]
    },
    {
      "cell_type": "markdown",
      "id": "96ad1ed1",
      "metadata": {
        "id": "96ad1ed1"
      },
      "source": [
        "# s the average purchase made by men and women of the age 18-25 same?"
      ]
    },
    {
      "cell_type": "code",
      "execution_count": null,
      "id": "e53c3472",
      "metadata": {
        "id": "e53c3472"
      },
      "outputs": [],
      "source": [
        "# t test for 2 sample"
      ]
    },
    {
      "cell_type": "code",
      "execution_count": null,
      "id": "6a04a6cb",
      "metadata": {
        "id": "6a04a6cb"
      },
      "outputs": [],
      "source": [
        "#null hypothesis - average spends are equal\n",
        "#alternate hypothesis - average spends are not equal\n",
        "\n",
        "data_men = data[(data['Gender'] == 1)& (data['Age'] == 1)]\n",
        "data_women = data[(data['Gender'] == 0) & (data['Age'] == 1)]"
      ]
    },
    {
      "cell_type": "code",
      "execution_count": null,
      "id": "47353893",
      "metadata": {
        "id": "47353893",
        "outputId": "c032f021-9121-44d8-91bb-174e7447469d"
      },
      "outputs": [
        {
          "name": "stdout",
          "output_type": "stream",
          "text": [
            "11785.18817204301\n",
            "10667.221246707639\n"
          ]
        }
      ],
      "source": [
        "print(data_men[\"Purchase\"].mean())\n",
        "print(data_women[\"Purchase\"].mean())"
      ]
    },
    {
      "cell_type": "code",
      "execution_count": null,
      "id": "27ce7619",
      "metadata": {
        "id": "27ce7619"
      },
      "outputs": [],
      "source": [
        "#creating samples\n",
        "data_men_sample = data_men.sample(500, random_state=0)\n",
        "data_women_sample = data_women.sample(500, random_state=0)"
      ]
    },
    {
      "cell_type": "code",
      "execution_count": null,
      "id": "be150a36",
      "metadata": {
        "id": "be150a36",
        "outputId": "a2c529e3-1bd9-49b3-9d19-7d0d6d8bbe4a"
      },
      "outputs": [
        {
          "name": "stdout",
          "output_type": "stream",
          "text": [
            "25403579.49849695\n",
            "26680870.93292181\n"
          ]
        }
      ],
      "source": [
        "print(data_men_sample[\"Purchase\"].var())\n",
        "print(data_women_sample[\"Purchase\"].var())"
      ]
    },
    {
      "cell_type": "code",
      "execution_count": null,
      "id": "964b8097",
      "metadata": {
        "id": "964b8097",
        "outputId": "9c881d57-9d38-4727-aea0-69ce29a66b15"
      },
      "outputs": [
        {
          "name": "stdout",
          "output_type": "stream",
          "text": [
            "3.492271910884296 0.0004999157448251494\n"
          ]
        }
      ],
      "source": [
        "from scipy.stats import ttest_ind\n",
        "\n",
        "t_stat_2, p_val_2 = ttest_ind(data_men_sample[\"Purchase\"], data_women_sample[\"Purchase\"],equal_var=True)\n",
        "print(t_stat_2, p_val_2)"
      ]
    },
    {
      "cell_type": "code",
      "execution_count": null,
      "id": "4881b3e2",
      "metadata": {
        "id": "4881b3e2"
      },
      "outputs": [],
      "source": [
        "#we can reject the null hypothesis using the test statistic and since p-value is less than 0.05.\n",
        "#the average purchases are not the same."
      ]
    },
    {
      "cell_type": "markdown",
      "id": "9b0c42be",
      "metadata": {
        "id": "9b0c42be"
      },
      "source": [
        "# . Is the percentage of men who have spent more than 10000 the same for the ages 18-25 and 26-35?"
      ]
    },
    {
      "cell_type": "code",
      "execution_count": null,
      "id": "cc876c84",
      "metadata": {
        "id": "cc876c84"
      },
      "outputs": [],
      "source": [
        "#null hypothesis - Percentage of the men in the age groups is same\n",
        "#alternate hypothesis - Percentage of the men in the age groups is not same\n",
        "\n",
        "data_age1 = data[(data['Age'] == 1) & (data['Purchase'] > 10000)]\n",
        "data_age2 = data[(data['Age'] == 2) & (data['Purchase'] > 10000)]"
      ]
    },
    {
      "cell_type": "code",
      "execution_count": null,
      "id": "db7d7c3c",
      "metadata": {
        "id": "db7d7c3c"
      },
      "outputs": [],
      "source": [
        "data_age1_sample = data_age1.sample(1000, random_state=0)\n",
        "data_age2_sample = data_age2.sample(1000, random_state=0)"
      ]
    },
    {
      "cell_type": "code",
      "execution_count": null,
      "id": "aaf5e343",
      "metadata": {
        "id": "aaf5e343"
      },
      "outputs": [],
      "source": [
        "count, nobs and value"
      ]
    },
    {
      "cell_type": "code",
      "execution_count": null,
      "id": "967b609d",
      "metadata": {
        "id": "967b609d"
      },
      "outputs": [],
      "source": [
        "count = [(data_age1_sample['Gender'] == 1).sum(), (data_age2_sample['Gender'] == 1).sum()]\n",
        "\n",
        "nobs = [len(data_age1_sample), len(data_age2_sample)]"
      ]
    },
    {
      "cell_type": "code",
      "execution_count": null,
      "id": "259c9e7c",
      "metadata": {
        "id": "259c9e7c",
        "outputId": "844f43c7-4107-479d-cff4-6f6ca8d99333"
      },
      "outputs": [
        {
          "data": {
            "text/plain": [
              "815"
            ]
          },
          "execution_count": 122,
          "metadata": {},
          "output_type": "execute_result"
        }
      ],
      "source": [
        "(data_age1_sample['Gender'] == 1).sum()"
      ]
    },
    {
      "cell_type": "code",
      "execution_count": null,
      "id": "4389c583",
      "metadata": {
        "id": "4389c583",
        "outputId": "861fe23e-e3cc-4d74-8b05-d648bf9c72c7"
      },
      "outputs": [
        {
          "data": {
            "text/plain": [
              "828"
            ]
          },
          "execution_count": 123,
          "metadata": {},
          "output_type": "execute_result"
        }
      ],
      "source": [
        "(data_age2_sample['Gender'] == 1).sum()"
      ]
    },
    {
      "cell_type": "code",
      "execution_count": null,
      "id": "dca62e95",
      "metadata": {
        "id": "dca62e95",
        "outputId": "10c0c3ff-cd5e-4a3a-fcbc-cae5dfc8fae1"
      },
      "outputs": [
        {
          "data": {
            "text/plain": [
              "([815, 828], [1000, 1000])"
            ]
          },
          "execution_count": 124,
          "metadata": {},
          "output_type": "execute_result"
        }
      ],
      "source": [
        "count,nobs"
      ]
    },
    {
      "cell_type": "code",
      "execution_count": null,
      "id": "ce2a1779",
      "metadata": {
        "id": "ce2a1779"
      },
      "outputs": [],
      "source": [
        "from statsmodels.stats.proportion import proportions_ztest\n",
        "stat_2sample, p_value_2sample = proportions_ztest(count=count,\n",
        "                                                  nobs=nobs,\n",
        "                                                  value=0)"
      ]
    },
    {
      "cell_type": "code",
      "execution_count": null,
      "id": "95ff3161",
      "metadata": {
        "id": "95ff3161",
        "outputId": "c740dac2-59bf-4415-92fb-c72b7a187d56"
      },
      "outputs": [
        {
          "name": "stdout",
          "output_type": "stream",
          "text": [
            "-0.759111307093946 0.44778597581119517\n"
          ]
        }
      ],
      "source": [
        "print(stat_2sample, p_value_2sample)"
      ]
    },
    {
      "cell_type": "code",
      "execution_count": null,
      "id": "f10856bd",
      "metadata": {
        "id": "f10856bd"
      },
      "outputs": [],
      "source": [
        "#p value is more than 0.05, cannot reject the null hypthesis.\n",
        "#therefore, Percentage of the men in the age groups is same"
      ]
    },
    {
      "cell_type": "code",
      "execution_count": null,
      "id": "0976b288",
      "metadata": {
        "id": "0976b288"
      },
      "outputs": [],
      "source": []
    }
  ],
  "metadata": {
    "kernelspec": {
      "display_name": "Python 3 (ipykernel)",
      "language": "python",
      "name": "python3"
    },
    "language_info": {
      "codemirror_mode": {
        "name": "ipython",
        "version": 3
      },
      "file_extension": ".py",
      "mimetype": "text/x-python",
      "name": "python",
      "nbconvert_exporter": "python",
      "pygments_lexer": "ipython3",
      "version": "3.9.12"
    },
    "colab": {
      "provenance": [],
      "include_colab_link": true
    }
  },
  "nbformat": 4,
  "nbformat_minor": 5
}